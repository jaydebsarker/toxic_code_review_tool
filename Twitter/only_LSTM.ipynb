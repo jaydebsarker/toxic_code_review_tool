{
 "cells": [
  {
   "cell_type": "code",
   "execution_count": 81,
   "metadata": {},
   "outputs": [
    {
     "name": "stderr",
     "output_type": "stream",
     "text": [
      "[nltk_data] Downloading package stopwords to\n",
      "[nltk_data]     /home/amiangshu/nltk_data...\n",
      "[nltk_data]   Package stopwords is already up-to-date!\n",
      "[nltk_data] Downloading package punkt to /home/amiangshu/nltk_data...\n",
      "[nltk_data]   Package punkt is already up-to-date!\n"
     ]
    }
   ],
   "source": [
    "#For Pre-Processing\n",
    "from tqdm import tqdm\n",
    "import nltk\n",
    "from nltk.corpus import stopwords\n",
    "nltk.download('stopwords')\n",
    "nltk.download('punkt')\n",
    "from nltk.tokenize import RegexpTokenizer \n",
    "from nltk.tokenize import word_tokenize\n",
    "import os, re, csv, math, codecs\n",
    "\n",
    "\n",
    "# For Training\n",
    "import keras\n",
    "from keras import optimizers\n",
    "from keras import backend as K\n",
    "from keras import regularizers\n",
    "from keras.models import Sequential\n",
    "from keras.layers import Dense, Activation, Dropout, Flatten\n",
    "from keras.layers import Embedding, Conv1D, MaxPooling1D, GlobalMaxPooling1D\n",
    "from tensorflow.keras.layers import Embedding, LSTM, Dense, Dropout, Bidirectional\n",
    "from keras.utils import plot_model\n",
    "from keras.preprocessing import sequence\n",
    "from keras.preprocessing.text import Tokenizer\n",
    "from keras.callbacks import EarlyStopping\n",
    "\n",
    "# For array, dataset, and visualizing\n",
    "import numpy as np\n",
    "import pandas as pd\n",
    "import seaborn as sns\n",
    "import matplotlib.pyplot as plt\n",
    "\n",
    "sns.set_style(\"whitegrid\")\n",
    "np.random.seed(0)\n",
    "\n",
    "MAX_NB_WORDS = 100000\n",
    "tokenizer = RegexpTokenizer(r'\\w+')\n",
    "stop_words = set(stopwords.words('english'))\n",
    "stop_words.update(['.', ',', '\"', \"'\", ':', ';', '(', ')', '[', ']', '{', '}'])"
   ]
  },
  {
   "cell_type": "code",
   "execution_count": 82,
   "metadata": {},
   "outputs": [
    {
     "name": "stdout",
     "output_type": "stream",
     "text": [
      "Number of training data  6090\n",
      "Number of testing data:  1523\n"
     ]
    }
   ],
   "source": [
    "from sklearn.model_selection import train_test_split\n",
    "#load data\n",
    "data = pd.read_csv('train.csv', sep=',', header=0)\n",
    "train_data, test_data = train_test_split(data, test_size=0.2, random_state=42, shuffle=True)\n",
    "test_data.to_csv(\"test_dat.csv\")\n",
    "train_data.to_csv(\"train_dat.csv\")\n",
    "\n",
    "train_df = pd.read_csv('train_dat.csv', sep=',', header=0)\n",
    "test_df = pd.read_csv('test_dat.csv', sep=',', header=0)\n",
    "test_df = test_df.fillna('_NA_')\n",
    "\n",
    "print(\"Number of training data \", train_df.shape[0])\n",
    "print(\"Number of testing data: \", test_df.shape[0])"
   ]
  },
  {
   "cell_type": "code",
   "execution_count": 83,
   "metadata": {},
   "outputs": [
    {
     "name": "stdout",
     "output_type": "stream",
     "text": [
      "Number of training data  6090\n",
      "Number of testing data:  1523\n"
     ]
    }
   ],
   "source": [
    "from sklearn.model_selection import train_test_split\n",
    "#load data\n",
    "data = pd.read_csv('train.csv', sep=',', header=0)\n",
    "train_data, test_data = train_test_split(data, test_size=0.2, random_state=42, shuffle=True)\n",
    "test_data.to_csv(\"test_dat.csv\")\n",
    "train_data.to_csv(\"train_dat.csv\")\n",
    "\n",
    "train_df = pd.read_csv('train_dat.csv', sep=',', header=0)\n",
    "test_df = pd.read_csv('test_dat.csv', sep=',', header=0)\n",
    "test_df = test_df.fillna('_NA_')\n",
    "\n",
    "print(\"Number of training data \", train_df.shape[0])\n",
    "print(\"Number of testing data: \", test_df.shape[0])"
   ]
  },
  {
   "cell_type": "code",
   "execution_count": 84,
   "metadata": {},
   "outputs": [
    {
     "name": "stderr",
     "output_type": "stream",
     "text": [
      "/opt/anaconda/envs/tfgpu-3.6.8/lib/python3.6/site-packages/seaborn/distributions.py:2551: FutureWarning: `distplot` is a deprecated function and will be removed in a future version. Please adapt your code to use either `displot` (a figure-level function with similar flexibility) or `histplot` (an axes-level function for histograms).\n",
      "  warnings.warn(msg, FutureWarning)\n"
     ]
    },
    {
     "data": {
      "image/png": "[encoded data removed]",
      "text/plain": [
       "<Figure size 432x288 with 1 Axes>"
      ]
     },
     "metadata": {},
     "output_type": "display_data"
    }
   ],
   "source": [
    "label_names = [\"target\"]\n",
    "y_train = train_df[label_names].values\n",
    "train_df['doc_len'] = train_df['text'].apply(lambda words: len(words.split(\" \")))\n",
    "max_seq_len = np.round(train_df['doc_len'].mean() + train_df['doc_len'].std()).astype(int)\n",
    "\n",
    "sns.distplot(train_df['doc_len'], hist=True, kde=True, color='b', label='doc len')\n",
    "plt.axvline(x=max_seq_len, color='k', linestyle='--', label='max len')\n",
    "plt.title('comment length'); plt.legend()\n",
    "plt.show()"
   ]
  },
  {
   "cell_type": "code",
   "execution_count": 85,
   "metadata": {},
   "outputs": [
    {
     "name": "stderr",
     "output_type": "stream",
     "text": [
      " 24%|██▎       | 1436/6090 [00:00<00:00, 7108.63it/s]"
     ]
    },
    {
     "name": "stdout",
     "output_type": "stream",
     "text": [
      "pre-processing train data...\n"
     ]
    },
    {
     "name": "stderr",
     "output_type": "stream",
     "text": [
      "100%|██████████| 6090/6090 [00:00<00:00, 7243.79it/s]\n",
      "100%|██████████| 1523/1523 [00:00<00:00, 7377.83it/s]\n"
     ]
    },
    {
     "name": "stdout",
     "output_type": "stream",
     "text": [
      "tokenizing input data...\n",
      "dictionary size:  22247\n"
     ]
    }
   ],
   "source": [
    "from sklearn.utils import shuffle \n",
    "\n",
    "raw_docs_train = train_df['text'].tolist()\n",
    "raw_docs_test = test_df['text'].tolist() \n",
    "num_classes = len(label_names)\n",
    "\n",
    "print(\"pre-processing train data...\")\n",
    "\n",
    "processed_docs_train = []\n",
    "for doc in tqdm(raw_docs_train):\n",
    "    tokens = word_tokenize(doc)\n",
    "    filtered = [word for word in tokens if word not in stop_words]\n",
    "    processed_docs_train.append(\" \".join(filtered))\n",
    "#end for\n",
    "\n",
    "processed_docs_test = []\n",
    "for doc in tqdm(raw_docs_test):\n",
    "    tokens = word_tokenize(doc)\n",
    "    filtered = [word for word in tokens if word not in stop_words]\n",
    "    processed_docs_test.append(\" \".join(filtered))\n",
    "#end for\n",
    "\n",
    "print(\"tokenizing input data...\")\n",
    "tokenizer = Tokenizer(num_words=MAX_NB_WORDS, lower=True, char_level=False)\n",
    "tokenizer.fit_on_texts(processed_docs_train + processed_docs_test)  #leaky\n",
    "word_seq_train = tokenizer.texts_to_sequences(processed_docs_train)\n",
    "word_seq_test = tokenizer.texts_to_sequences(processed_docs_test)\n",
    "word_index = tokenizer.word_index\n",
    "print(\"dictionary size: \", len(word_index))\n",
    "\n",
    "#pad sequences\n",
    "word_seq_train = sequence.pad_sequences(word_seq_train, maxlen=max_seq_len)\n",
    "word_seq_test = sequence.pad_sequences(word_seq_test, maxlen=max_seq_len)"
   ]
  },
  {
   "cell_type": "code",
   "execution_count": 86,
   "metadata": {},
   "outputs": [],
   "source": [
    "#training params\n",
    "batch_size = 256 \n",
    "num_epochs = 40\n",
    "\n",
    "#model parameters\n",
    "num_filters = 64 \n",
    "embed_dim = 300 \n",
    "weight_decay = 1e-4"
   ]
  },
  {
   "cell_type": "code",
   "execution_count": 87,
   "metadata": {},
   "outputs": [],
   "source": [
    "from keras.layers import BatchNormalization\n",
    "import tensorflow as tf\n",
    "es_callback = EarlyStopping(monitor='val_loss', patience=3)\n"
   ]
  },
  {
   "cell_type": "code",
   "execution_count": 88,
   "metadata": {},
   "outputs": [],
   "source": [
    "max_features =50000\n",
    "nb_words=50000\n",
    "embedding_dim =16\n",
    "sequence_length = 100\n",
    "def lstm_without_embed():\n",
    "    model = tf.keras.Sequential()\n",
    "    #model.add(tf.keras.layers.Embedding(max_features +1, embedding_dim, input_length=sequence_length,\\\n",
    "                                    #embeddings_regularizer = regularizers.l2(0.005))) \n",
    "    model.add(tf.keras.layers.Embedding(nb_words,embed_dim,input_length=max_seq_len,trainable=False))\n",
    "    model.add(tf.keras.layers.Dropout(0.4))\n",
    "\n",
    "    model.add(tf.keras.layers.LSTM(embedding_dim,dropout=0.2, recurrent_dropout=0.2,return_sequences=True,\\\n",
    "                                                             kernel_regularizer=regularizers.l2(0.005),\\\n",
    "                                                             bias_regularizer=regularizers.l2(0.005)))\n",
    "\n",
    "    model.add(tf.keras.layers.Flatten())\n",
    "\n",
    "    model.add(tf.keras.layers.Dense(512, activation='relu',\\\n",
    "                                kernel_regularizer=regularizers.l2(0.001),\\\n",
    "                                bias_regularizer=regularizers.l2(0.001),))\n",
    "    model.add(tf.keras.layers.Dropout(0.4))\n",
    "\n",
    "    model.add(tf.keras.layers.Dense(8, activation='relu',\\\n",
    "                                kernel_regularizer=regularizers.l2(0.001),\\\n",
    "                                bias_regularizer=regularizers.l2(0.001),))\n",
    "    model.add(tf.keras.layers.Dropout(0.4))\n",
    "\n",
    "\n",
    "    model.add(tf.keras.layers.Dense(1,activation='sigmoid'))\n",
    "    \n",
    "    return model\n"
   ]
  },
  {
   "cell_type": "code",
   "execution_count": 89,
   "metadata": {},
   "outputs": [
    {
     "name": "stdout",
     "output_type": "stream",
     "text": [
      "Model: \"sequential_1\"\n",
      "_________________________________________________________________\n",
      "Layer (type)                 Output Shape              Param #   \n",
      "=================================================================\n",
      "embedding_1 (Embedding)      (None, 21, 300)           15000000  \n",
      "_________________________________________________________________\n",
      "dropout_3 (Dropout)          (None, 21, 300)           0         \n",
      "_________________________________________________________________\n",
      "lstm_1 (LSTM)                (None, 21, 16)            20288     \n",
      "_________________________________________________________________\n",
      "flatten_1 (Flatten)          (None, 336)               0         \n",
      "_________________________________________________________________\n",
      "dense_3 (Dense)              (None, 512)               172544    \n",
      "_________________________________________________________________\n",
      "dropout_4 (Dropout)          (None, 512)               0         \n",
      "_________________________________________________________________\n",
      "dense_4 (Dense)              (None, 8)                 4104      \n",
      "_________________________________________________________________\n",
      "dropout_5 (Dropout)          (None, 8)                 0         \n",
      "_________________________________________________________________\n",
      "dense_5 (Dense)              (None, 1)                 9         \n",
      "=================================================================\n",
      "Total params: 15,196,945\n",
      "Trainable params: 196,945\n",
      "Non-trainable params: 15,000,000\n",
      "_________________________________________________________________\n"
     ]
    }
   ],
   "source": [
    "lstm_no_embed=lstm_without_embed()\n",
    "lstm_no_embed.summary()\n",
    "lstm_no_embed.compile(loss=tf.keras.losses.BinaryCrossentropy(),optimizer=tf.keras.optimizers.Adam(1e-3),metrics=[tf.keras.metrics.BinaryAccuracy()])"
   ]
  },
  {
   "cell_type": "code",
   "execution_count": 90,
   "metadata": {},
   "outputs": [
    {
     "name": "stdout",
     "output_type": "stream",
     "text": [
      "Train on 4263 samples, validate on 1827 samples\n",
      "Epoch 1/40\n",
      "4263/4263 [==============================] - 1s 334us/sample - loss: 1.5332 - binary_accuracy: 0.5574 - val_loss: 1.3367 - val_binary_accuracy: 0.5594\n",
      "Epoch 2/40\n",
      "4263/4263 [==============================] - 0s 106us/sample - loss: 1.2150 - binary_accuracy: 0.5738 - val_loss: 1.0875 - val_binary_accuracy: 0.5594\n",
      "Epoch 3/40\n",
      "4263/4263 [==============================] - 1s 118us/sample - loss: 1.0151 - binary_accuracy: 0.5738 - val_loss: 0.9362 - val_binary_accuracy: 0.5594\n",
      "Epoch 4/40\n",
      "4263/4263 [==============================] - 0s 107us/sample - loss: 0.8999 - binary_accuracy: 0.5738 - val_loss: 0.8485 - val_binary_accuracy: 0.5594\n",
      "Epoch 5/40\n",
      "4263/4263 [==============================] - 1s 128us/sample - loss: 0.8292 - binary_accuracy: 0.5738 - val_loss: 0.7953 - val_binary_accuracy: 0.5594\n",
      "Epoch 6/40\n",
      "4263/4263 [==============================] - 0s 115us/sample - loss: 0.7879 - binary_accuracy: 0.5738 - val_loss: 0.7650 - val_binary_accuracy: 0.5594\n",
      "Epoch 7/40\n",
      "4263/4263 [==============================] - 0s 114us/sample - loss: 0.7607 - binary_accuracy: 0.5738 - val_loss: 0.7457 - val_binary_accuracy: 0.5594\n",
      "Epoch 8/40\n",
      "4263/4263 [==============================] - 0s 111us/sample - loss: 0.7459 - binary_accuracy: 0.5738 - val_loss: 0.7363 - val_binary_accuracy: 0.5594\n",
      "Epoch 9/40\n",
      "4263/4263 [==============================] - 0s 110us/sample - loss: 0.7359 - binary_accuracy: 0.5738 - val_loss: 0.7287 - val_binary_accuracy: 0.5594\n",
      "Epoch 10/40\n",
      "4263/4263 [==============================] - 0s 106us/sample - loss: 0.7285 - binary_accuracy: 0.5738 - val_loss: 0.7235 - val_binary_accuracy: 0.5594\n",
      "Epoch 11/40\n",
      "4263/4263 [==============================] - 0s 109us/sample - loss: 0.7213 - binary_accuracy: 0.5738 - val_loss: 0.7191 - val_binary_accuracy: 0.5594\n",
      "Epoch 12/40\n",
      "4263/4263 [==============================] - 0s 108us/sample - loss: 0.7160 - binary_accuracy: 0.5738 - val_loss: 0.7162 - val_binary_accuracy: 0.5594\n",
      "Epoch 13/40\n",
      "4263/4263 [==============================] - 0s 108us/sample - loss: 0.7131 - binary_accuracy: 0.5738 - val_loss: 0.7111 - val_binary_accuracy: 0.5594\n",
      "Epoch 14/40\n",
      "4263/4263 [==============================] - 0s 110us/sample - loss: 0.7155 - binary_accuracy: 0.5738 - val_loss: 0.7140 - val_binary_accuracy: 0.5594\n",
      "Epoch 15/40\n",
      "4263/4263 [==============================] - 0s 112us/sample - loss: 0.7102 - binary_accuracy: 0.5829 - val_loss: 0.7092 - val_binary_accuracy: 0.6585\n",
      "Epoch 16/40\n",
      "4263/4263 [==============================] - 1s 123us/sample - loss: 0.7072 - binary_accuracy: 0.6327 - val_loss: 0.7075 - val_binary_accuracy: 0.6639\n",
      "Epoch 17/40\n",
      "4263/4263 [==============================] - 0s 113us/sample - loss: 0.7051 - binary_accuracy: 0.6118 - val_loss: 0.7048 - val_binary_accuracy: 0.6628\n",
      "Epoch 18/40\n",
      "4263/4263 [==============================] - 0s 109us/sample - loss: 0.7038 - binary_accuracy: 0.6280 - val_loss: 0.7072 - val_binary_accuracy: 0.6541\n",
      "Epoch 19/40\n",
      "4263/4263 [==============================] - 0s 109us/sample - loss: 0.7006 - binary_accuracy: 0.6345 - val_loss: 0.7024 - val_binary_accuracy: 0.6585\n",
      "Epoch 20/40\n",
      "4263/4263 [==============================] - 0s 112us/sample - loss: 0.6981 - binary_accuracy: 0.6287 - val_loss: 0.7009 - val_binary_accuracy: 0.6519\n",
      "Epoch 21/40\n",
      "4263/4263 [==============================] - 1s 131us/sample - loss: 0.6987 - binary_accuracy: 0.6296 - val_loss: 0.6988 - val_binary_accuracy: 0.6530\n",
      "Epoch 22/40\n",
      "4263/4263 [==============================] - 0s 109us/sample - loss: 0.7005 - binary_accuracy: 0.6266 - val_loss: 0.6978 - val_binary_accuracy: 0.6557\n",
      "Epoch 23/40\n",
      "4263/4263 [==============================] - 0s 115us/sample - loss: 0.6956 - binary_accuracy: 0.6341 - val_loss: 0.6954 - val_binary_accuracy: 0.6596\n",
      "Epoch 24/40\n",
      "4263/4263 [==============================] - 0s 112us/sample - loss: 0.6924 - binary_accuracy: 0.6348 - val_loss: 0.6906 - val_binary_accuracy: 0.6683\n",
      "Epoch 25/40\n",
      "4263/4263 [==============================] - 0s 107us/sample - loss: 0.6902 - binary_accuracy: 0.6432 - val_loss: 0.6852 - val_binary_accuracy: 0.6700\n",
      "Epoch 26/40\n",
      "4263/4263 [==============================] - 0s 112us/sample - loss: 0.6869 - binary_accuracy: 0.6441 - val_loss: 0.6865 - val_binary_accuracy: 0.6732\n",
      "Epoch 27/40\n",
      "4263/4263 [==============================] - 1s 122us/sample - loss: 0.6834 - binary_accuracy: 0.6411 - val_loss: 0.6843 - val_binary_accuracy: 0.6760\n",
      "Epoch 28/40\n",
      "4263/4263 [==============================] - 1s 127us/sample - loss: 0.6846 - binary_accuracy: 0.6348 - val_loss: 0.6866 - val_binary_accuracy: 0.6557\n",
      "Epoch 29/40\n",
      "4263/4263 [==============================] - 0s 114us/sample - loss: 0.6824 - binary_accuracy: 0.6507 - val_loss: 0.6863 - val_binary_accuracy: 0.6710\n",
      "Epoch 30/40\n",
      "4263/4263 [==============================] - 1s 117us/sample - loss: 0.6867 - binary_accuracy: 0.6434 - val_loss: 0.6764 - val_binary_accuracy: 0.6689\n",
      "Epoch 31/40\n",
      "4263/4263 [==============================] - 0s 111us/sample - loss: 0.6789 - binary_accuracy: 0.6388 - val_loss: 0.6770 - val_binary_accuracy: 0.6716\n",
      "Epoch 32/40\n",
      "4263/4263 [==============================] - 1s 119us/sample - loss: 0.6768 - binary_accuracy: 0.6434 - val_loss: 0.6760 - val_binary_accuracy: 0.6710\n",
      "Epoch 33/40\n",
      "4263/4263 [==============================] - 0s 114us/sample - loss: 0.6785 - binary_accuracy: 0.6458 - val_loss: 0.6809 - val_binary_accuracy: 0.6623\n",
      "Epoch 34/40\n",
      "4263/4263 [==============================] - 0s 115us/sample - loss: 0.6747 - binary_accuracy: 0.6498 - val_loss: 0.6696 - val_binary_accuracy: 0.6776\n",
      "Epoch 35/40\n",
      "4263/4263 [==============================] - 0s 116us/sample - loss: 0.6742 - binary_accuracy: 0.6486 - val_loss: 0.6717 - val_binary_accuracy: 0.6825\n",
      "Epoch 36/40\n",
      "4263/4263 [==============================] - 0s 107us/sample - loss: 0.6699 - binary_accuracy: 0.6507 - val_loss: 0.6737 - val_binary_accuracy: 0.6721\n",
      "Epoch 37/40\n",
      "4263/4263 [==============================] - 1s 131us/sample - loss: 0.6717 - binary_accuracy: 0.6580 - val_loss: 0.6695 - val_binary_accuracy: 0.6771\n",
      "Epoch 38/40\n",
      "4263/4263 [==============================] - 0s 105us/sample - loss: 0.6731 - binary_accuracy: 0.6493 - val_loss: 0.6674 - val_binary_accuracy: 0.6771\n",
      "Epoch 39/40\n",
      "4263/4263 [==============================] - 0s 107us/sample - loss: 0.6724 - binary_accuracy: 0.6531 - val_loss: 0.6647 - val_binary_accuracy: 0.6749\n",
      "Epoch 40/40\n",
      "4263/4263 [==============================] - 0s 105us/sample - loss: 0.6733 - binary_accuracy: 0.6500 - val_loss: 0.6644 - val_binary_accuracy: 0.6798\n"
     ]
    }
   ],
   "source": [
    "#epochs = 10\n",
    "# Fit the model using the train and test datasets.\n",
    "#history = model.fit(x_train, train_labels,validation_data= (x_test,test_labels),epochs=epochs )\n",
    "es_callback = EarlyStopping(monitor='val_loss', patience=3)\n",
    "lstm_no_embed_history = lstm_no_embed.fit(word_seq_train, y_train, batch_size=256,\n",
    "          epochs=num_epochs, validation_split=0.3,callbacks=[es_callback], shuffle=False)"
   ]
  },
  {
   "cell_type": "code",
   "execution_count": 92,
   "metadata": {},
   "outputs": [
    {
     "data": {
      "image/png": "[encoded data removed]",
      "text/plain": [
       "<Figure size 432x288 with 1 Axes>"
      ]
     },
     "metadata": {},
     "output_type": "display_data"
    }
   ],
   "source": [
    "#generate plots\n",
    "plt.figure()\n",
    "plt.plot(lstm_no_embed_history.history['loss'], lw=2.0, color='b', label='train')\n",
    "plt.plot(lstm_no_embed_history.history['val_loss'], lw=2.0, color='r', label='val')\n",
    "plt.title('LSTM with gno embedding sentiment loss graph')\n",
    "plt.xlabel('Epochs')\n",
    "plt.ylabel('Cross-Entropy Loss')\n",
    "plt.legend(loc='upper right')\n",
    "plt.show()"
   ]
  },
  {
   "cell_type": "code",
   "execution_count": 94,
   "metadata": {},
   "outputs": [
    {
     "ename": "KeyError",
     "evalue": "'acc'",
     "output_type": "error",
     "traceback": [
      "\u001b[0;31m---------------------------------------------------------------------------\u001b[0m",
      "\u001b[0;31mKeyError\u001b[0m                                  Traceback (most recent call last)",
      "\u001b[0;32m<ipython-input-94-6e1112f78b44>\u001b[0m in \u001b[0;36m<module>\u001b[0;34m\u001b[0m\n\u001b[1;32m      1\u001b[0m \u001b[0mplt\u001b[0m\u001b[0;34m.\u001b[0m\u001b[0mfigure\u001b[0m\u001b[0;34m(\u001b[0m\u001b[0;34m)\u001b[0m\u001b[0;34m\u001b[0m\u001b[0;34m\u001b[0m\u001b[0m\n\u001b[0;32m----> 2\u001b[0;31m \u001b[0mplt\u001b[0m\u001b[0;34m.\u001b[0m\u001b[0mplot\u001b[0m\u001b[0;34m(\u001b[0m\u001b[0mlstm_no_embed_history\u001b[0m\u001b[0;34m.\u001b[0m\u001b[0mhistory\u001b[0m\u001b[0;34m[\u001b[0m\u001b[0;34m'acc'\u001b[0m\u001b[0;34m]\u001b[0m\u001b[0;34m,\u001b[0m \u001b[0mlw\u001b[0m\u001b[0;34m=\u001b[0m\u001b[0;36m2.0\u001b[0m\u001b[0;34m,\u001b[0m \u001b[0mcolor\u001b[0m\u001b[0;34m=\u001b[0m\u001b[0;34m'b'\u001b[0m\u001b[0;34m,\u001b[0m \u001b[0mlabel\u001b[0m\u001b[0;34m=\u001b[0m\u001b[0;34m'train'\u001b[0m\u001b[0;34m)\u001b[0m\u001b[0;34m\u001b[0m\u001b[0;34m\u001b[0m\u001b[0m\n\u001b[0m\u001b[1;32m      3\u001b[0m \u001b[0mplt\u001b[0m\u001b[0;34m.\u001b[0m\u001b[0mplot\u001b[0m\u001b[0;34m(\u001b[0m\u001b[0mlstm_no_embed_history\u001b[0m\u001b[0;34m.\u001b[0m\u001b[0mhistory\u001b[0m\u001b[0;34m[\u001b[0m\u001b[0;34m'val_acc'\u001b[0m\u001b[0;34m]\u001b[0m\u001b[0;34m,\u001b[0m \u001b[0mlw\u001b[0m\u001b[0;34m=\u001b[0m\u001b[0;36m2.0\u001b[0m\u001b[0;34m,\u001b[0m \u001b[0mcolor\u001b[0m\u001b[0;34m=\u001b[0m\u001b[0;34m'r'\u001b[0m\u001b[0;34m,\u001b[0m \u001b[0mlabel\u001b[0m\u001b[0;34m=\u001b[0m\u001b[0;34m'val'\u001b[0m\u001b[0;34m)\u001b[0m\u001b[0;34m\u001b[0m\u001b[0;34m\u001b[0m\u001b[0m\n\u001b[1;32m      4\u001b[0m \u001b[0mplt\u001b[0m\u001b[0;34m.\u001b[0m\u001b[0mtitle\u001b[0m\u001b[0;34m(\u001b[0m\u001b[0;34m'LSTM with gno embedding sentiment accuracy'\u001b[0m\u001b[0;34m)\u001b[0m\u001b[0;34m\u001b[0m\u001b[0;34m\u001b[0m\u001b[0m\n\u001b[1;32m      5\u001b[0m \u001b[0mplt\u001b[0m\u001b[0;34m.\u001b[0m\u001b[0mxlabel\u001b[0m\u001b[0;34m(\u001b[0m\u001b[0;34m'Epochs'\u001b[0m\u001b[0;34m)\u001b[0m\u001b[0;34m\u001b[0m\u001b[0;34m\u001b[0m\u001b[0m\n",
      "\u001b[0;31mKeyError\u001b[0m: 'acc'"
     ]
    },
    {
     "data": {
      "text/plain": [
       "<Figure size 432x288 with 0 Axes>"
      ]
     },
     "metadata": {},
     "output_type": "display_data"
    }
   ],
   "source": [
    "plt.figure()\n",
    "plt.plot(lstm_no_embed_history.history['acc'], lw=2.0, color='b', label='train')\n",
    "plt.plot(lstm_no_embed_history.history['val_acc'], lw=2.0, color='r', label='val')\n",
    "plt.title('LSTM with gno embedding sentiment accuracy')\n",
    "plt.xlabel('Epochs')\n",
    "plt.ylabel('Accuracy')\n",
    "plt.legend(loc='upper left')\n",
    "plt.show()"
   ]
  },
  {
   "cell_type": "code",
   "execution_count": 95,
   "metadata": {},
   "outputs": [],
   "source": [
    "#prediction without embed\n",
    "lst_predictions_noembed= lstm_no_embed.predict_classes(word_seq_test)\n",
    "sample_lstm_noembed=pd.read_csv('test_dat.csv')\n",
    "sample_lstm_noembed['pred']= (lst_predictions_noembed>=0.5).astype(int)"
   ]
  },
  {
   "cell_type": "code",
   "execution_count": 96,
   "metadata": {},
   "outputs": [
    {
     "name": "stdout",
     "output_type": "stream",
     "text": [
      "Accuracy Without Embedding in LSTM for twitter data :\n",
      "0.659881812212738\n",
      "              precision    recall  f1-score   support\n",
      "\n",
      "           0       0.68      0.77      0.72       874\n",
      "           1       0.62      0.52      0.56       649\n",
      "\n",
      "    accuracy                           0.66      1523\n",
      "   macro avg       0.65      0.64      0.64      1523\n",
      "weighted avg       0.66      0.66      0.65      1523\n",
      "\n"
     ]
    }
   ],
   "source": [
    "import sklearn\n",
    "print(\"Accuracy Without Embedding in LSTM for twitter data :\")\n",
    "print(sklearn.metrics.accuracy_score(sample_lstm_noembed.target, sample_lstm_noembed.pred))\n",
    "\n",
    "from sklearn import metrics\n",
    "print(metrics.classification_report(sample_lstm_noembed.target, sample_lstm_noembed.pred))"
   ]
  },
  {
   "cell_type": "code",
   "execution_count": 97,
   "metadata": {},
   "outputs": [],
   "source": [
    "keras.backend.clear_session()"
   ]
  },
  {
   "cell_type": "code",
   "execution_count": 98,
   "metadata": {},
   "outputs": [
    {
     "name": "stderr",
     "output_type": "stream",
     "text": [
      "3it [00:00, 22.05it/s]"
     ]
    },
    {
     "name": "stdout",
     "output_type": "stream",
     "text": [
      "loading word embeddings...\n"
     ]
    },
    {
     "name": "stderr",
     "output_type": "stream",
     "text": [
      "2000005it [01:51, 17866.03it/s]"
     ]
    },
    {
     "name": "stdout",
     "output_type": "stream",
     "text": [
      "found 1999997 word vectors\n"
     ]
    },
    {
     "name": "stderr",
     "output_type": "stream",
     "text": [
      "\n"
     ]
    }
   ],
   "source": [
    "print('loading word embeddings...')\n",
    "\n",
    "embeddings_index = {}\n",
    "f = codecs.open('../crawl-300d-2M.vec', encoding='utf-8')\n",
    "\n",
    "for line in tqdm(f):\n",
    "    values = line.rstrip().rsplit(' ')\n",
    "    word = values[0]\n",
    "    coefs = np.asarray(values[1:], dtype='float32')\n",
    "    embeddings_index[word] = coefs\n",
    "f.close()\n",
    "\n",
    "print('found %s word vectors' % len(embeddings_index))"
   ]
  },
  {
   "cell_type": "code",
   "execution_count": 73,
   "metadata": {},
   "outputs": [
    {
     "name": "stdout",
     "output_type": "stream",
     "text": [
      "preparing embedding matrix...\n",
      "number of null word embeddings: 9168\n"
     ]
    }
   ],
   "source": [
    "#embedding matrix\n",
    "\n",
    "print('preparing embedding matrix...')\n",
    "\n",
    "words_not_found = []\n",
    "nb_words = min(MAX_NB_WORDS, len(word_index)+1)\n",
    "embedding_matrix = np.zeros((nb_words, embed_dim))\n",
    "\n",
    "for word, i in word_index.items():\n",
    "    if i >= nb_words:\n",
    "        continue\n",
    "    embedding_vector = embeddings_index.get(word)\n",
    "    if (embedding_vector is not None) and len(embedding_vector) > 0:\n",
    "        # words not found in embedding index will be all-zeros.\n",
    "        embedding_matrix[i] = embedding_vector\n",
    "    else:\n",
    "        words_not_found.append(word)\n",
    "print('number of null word embeddings: %d' % np.sum(np.sum(embedding_matrix, axis=1) == 0))"
   ]
  },
  {
   "cell_type": "code",
   "execution_count": 74,
   "metadata": {},
   "outputs": [
    {
     "name": "stdout",
     "output_type": "stream",
     "text": [
      "sample words not found:  ['bjrrqhhohl' 'ikfmektpcx' '4bcqzqjrzn' 'g891m9gh4r' 'hashd' 'detkenlang'\n",
      " 'jwnxh9q5ov' 'avv6hpnpch' 'qkahxwlwxa' 'u7vavyrgv9']\n"
     ]
    }
   ],
   "source": [
    "print(\"sample words not found: \", np.random.choice(words_not_found, 10))\n"
   ]
  },
  {
   "cell_type": "code",
   "execution_count": 75,
   "metadata": {},
   "outputs": [],
   "source": [
    "from keras.layers import BatchNormalization\n",
    "import tensorflow as tf\n",
    "\n",
    "\n",
    "max_features =22248\n",
    "#nb_words=22248\n",
    "embedding_dim =16\n",
    "sequence_length = 100\n",
    "\n",
    "def model_with_embedding():\n",
    "    model = tf.keras.Sequential()\n",
    "    #model.add(tf.keras.layers.Embedding(max_features +1, embedding_dim, input_length=sequence_length,\\\n",
    "                                    #embeddings_regularizer = regularizers.l2(0.005))) \n",
    "    model.add(tf.keras.layers.Embedding(nb_words,embed_dim,input_length=max_seq_len,weights=[embedding_matrix],trainable=False))\n",
    "    model.add(tf.keras.layers.Dropout(0.4))\n",
    "\n",
    "    model.add(tf.keras.layers.LSTM(embedding_dim,dropout=0.2, recurrent_dropout=0.2,return_sequences=True,\\\n",
    "                                                             kernel_regularizer=regularizers.l2(0.005),\\\n",
    "                                                             bias_regularizer=regularizers.l2(0.005)))\n",
    "\n",
    "    model.add(tf.keras.layers.Flatten())\n",
    "\n",
    "    model.add(tf.keras.layers.Dense(512, activation='relu',\\\n",
    "                                kernel_regularizer=regularizers.l2(0.001),\\\n",
    "                                bias_regularizer=regularizers.l2(0.001),))\n",
    "    model.add(tf.keras.layers.Dropout(0.4))\n",
    "\n",
    "    model.add(tf.keras.layers.Dense(8, activation='relu',\\\n",
    "                                kernel_regularizer=regularizers.l2(0.001),\\\n",
    "                                bias_regularizer=regularizers.l2(0.001),))\n",
    "    model.add(tf.keras.layers.Dropout(0.4))\n",
    "\n",
    "\n",
    "    model.add(tf.keras.layers.Dense(1,activation='sigmoid'))\n",
    "                               \n",
    "    return model"
   ]
  },
  {
   "cell_type": "code",
   "execution_count": 76,
   "metadata": {},
   "outputs": [
    {
     "name": "stdout",
     "output_type": "stream",
     "text": [
      "Model: \"sequential\"\n",
      "_________________________________________________________________\n",
      "Layer (type)                 Output Shape              Param #   \n",
      "=================================================================\n",
      "embedding (Embedding)        (None, 21, 300)           6674400   \n",
      "_________________________________________________________________\n",
      "dropout (Dropout)            (None, 21, 300)           0         \n",
      "_________________________________________________________________\n",
      "lstm (LSTM)                  (None, 21, 16)            20288     \n",
      "_________________________________________________________________\n",
      "flatten (Flatten)            (None, 336)               0         \n",
      "_________________________________________________________________\n",
      "dense (Dense)                (None, 512)               172544    \n",
      "_________________________________________________________________\n",
      "dropout_1 (Dropout)          (None, 512)               0         \n",
      "_________________________________________________________________\n",
      "dense_1 (Dense)              (None, 8)                 4104      \n",
      "_________________________________________________________________\n",
      "dropout_2 (Dropout)          (None, 8)                 0         \n",
      "_________________________________________________________________\n",
      "dense_2 (Dense)              (None, 1)                 9         \n",
      "=================================================================\n",
      "Total params: 6,871,345\n",
      "Trainable params: 196,945\n",
      "Non-trainable params: 6,674,400\n",
      "_________________________________________________________________\n"
     ]
    }
   ],
   "source": [
    "model_fasttext=model_with_embedding()\n",
    "\n",
    "model_fasttext.summary()\n",
    "model_fasttext.compile(loss=tf.keras.losses.BinaryCrossentropy(),optimizer=tf.keras.optimizers.Adam(1e-3),metrics=[tf.keras.metrics.BinaryAccuracy()])"
   ]
  },
  {
   "cell_type": "code",
   "execution_count": 77,
   "metadata": {},
   "outputs": [
    {
     "name": "stdout",
     "output_type": "stream",
     "text": [
      "Train on 4263 samples, validate on 1827 samples\n",
      "Epoch 1/40\n",
      "4263/4263 [==============================] - 2s 380us/sample - loss: 1.5678 - acc: 0.5965 - val_loss: 1.3807 - val_acc: 0.6929\n",
      "Epoch 2/40\n",
      "4263/4263 [==============================] - 0s 114us/sample - loss: 1.2760 - acc: 0.7002 - val_loss: 1.1029 - val_acc: 0.7652\n",
      "Epoch 3/40\n",
      "4263/4263 [==============================] - 0s 107us/sample - loss: 1.0552 - acc: 0.7645 - val_loss: 0.9387 - val_acc: 0.7783\n",
      "Epoch 4/40\n",
      "4263/4263 [==============================] - 0s 107us/sample - loss: 0.9122 - acc: 0.7821 - val_loss: 0.8336 - val_acc: 0.7811\n",
      "Epoch 5/40\n",
      "4263/4263 [==============================] - 1s 122us/sample - loss: 0.8183 - acc: 0.7959 - val_loss: 0.7619 - val_acc: 0.7843\n",
      "Epoch 6/40\n",
      "4263/4263 [==============================] - 0s 111us/sample - loss: 0.7510 - acc: 0.8018 - val_loss: 0.7109 - val_acc: 0.7887\n",
      "Epoch 7/40\n",
      "4263/4263 [==============================] - 1s 125us/sample - loss: 0.7053 - acc: 0.8030 - val_loss: 0.6752 - val_acc: 0.7926\n",
      "Epoch 8/40\n",
      "4263/4263 [==============================] - 1s 133us/sample - loss: 0.6686 - acc: 0.8025 - val_loss: 0.6480 - val_acc: 0.7882\n",
      "Epoch 9/40\n",
      "4263/4263 [==============================] - 0s 110us/sample - loss: 0.6409 - acc: 0.8055 - val_loss: 0.6248 - val_acc: 0.7937\n",
      "Epoch 10/40\n",
      "4263/4263 [==============================] - 0s 109us/sample - loss: 0.6224 - acc: 0.8069 - val_loss: 0.6116 - val_acc: 0.7920\n",
      "Epoch 11/40\n",
      "4263/4263 [==============================] - 1s 121us/sample - loss: 0.6064 - acc: 0.8062 - val_loss: 0.6020 - val_acc: 0.7915\n",
      "Epoch 12/40\n",
      "4263/4263 [==============================] - 1s 123us/sample - loss: 0.5956 - acc: 0.8081 - val_loss: 0.5867 - val_acc: 0.8008\n",
      "Epoch 13/40\n",
      "4263/4263 [==============================] - 0s 111us/sample - loss: 0.5965 - acc: 0.8065 - val_loss: 0.5789 - val_acc: 0.7942\n",
      "Epoch 14/40\n",
      "4263/4263 [==============================] - 1s 141us/sample - loss: 0.5748 - acc: 0.8147 - val_loss: 0.5694 - val_acc: 0.8019\n",
      "Epoch 15/40\n",
      "4263/4263 [==============================] - 1s 127us/sample - loss: 0.5678 - acc: 0.8126 - val_loss: 0.5615 - val_acc: 0.8024\n",
      "Epoch 16/40\n",
      "4263/4263 [==============================] - 1s 119us/sample - loss: 0.5614 - acc: 0.8130 - val_loss: 0.5580 - val_acc: 0.8024\n",
      "Epoch 17/40\n",
      "4263/4263 [==============================] - 1s 121us/sample - loss: 0.5557 - acc: 0.8152 - val_loss: 0.5554 - val_acc: 0.7980\n",
      "Epoch 18/40\n",
      "4263/4263 [==============================] - 1s 122us/sample - loss: 0.5514 - acc: 0.8109 - val_loss: 0.5529 - val_acc: 0.7997\n",
      "Epoch 19/40\n",
      "4263/4263 [==============================] - 0s 110us/sample - loss: 0.5470 - acc: 0.8137 - val_loss: 0.5453 - val_acc: 0.8057\n",
      "Epoch 20/40\n",
      "4263/4263 [==============================] - 1s 119us/sample - loss: 0.5322 - acc: 0.8238 - val_loss: 0.5424 - val_acc: 0.8013\n",
      "Epoch 21/40\n",
      "4263/4263 [==============================] - 1s 119us/sample - loss: 0.5296 - acc: 0.8215 - val_loss: 0.5384 - val_acc: 0.8019\n",
      "Epoch 22/40\n",
      "4263/4263 [==============================] - 1s 127us/sample - loss: 0.5260 - acc: 0.8222 - val_loss: 0.5389 - val_acc: 0.8008\n",
      "Epoch 23/40\n",
      "4263/4263 [==============================] - 0s 117us/sample - loss: 0.5252 - acc: 0.8208 - val_loss: 0.5335 - val_acc: 0.8035\n",
      "Epoch 24/40\n",
      "4263/4263 [==============================] - 0s 109us/sample - loss: 0.5137 - acc: 0.8187 - val_loss: 0.5311 - val_acc: 0.8041\n",
      "Epoch 25/40\n",
      "4263/4263 [==============================] - 1s 120us/sample - loss: 0.5214 - acc: 0.8133 - val_loss: 0.5337 - val_acc: 0.8002\n",
      "Epoch 26/40\n",
      "4263/4263 [==============================] - 0s 116us/sample - loss: 0.5083 - acc: 0.8248 - val_loss: 0.5280 - val_acc: 0.8008\n",
      "Epoch 27/40\n",
      "4263/4263 [==============================] - 0s 110us/sample - loss: 0.5087 - acc: 0.8159 - val_loss: 0.5292 - val_acc: 0.7997\n",
      "Epoch 28/40\n",
      "4263/4263 [==============================] - 0s 113us/sample - loss: 0.5074 - acc: 0.8182 - val_loss: 0.5314 - val_acc: 0.7937\n",
      "Epoch 29/40\n",
      "4263/4263 [==============================] - 1s 121us/sample - loss: 0.4940 - acc: 0.8266 - val_loss: 0.5238 - val_acc: 0.7997\n",
      "Epoch 30/40\n",
      "4263/4263 [==============================] - 0s 108us/sample - loss: 0.4966 - acc: 0.8278 - val_loss: 0.5243 - val_acc: 0.8035\n",
      "Epoch 31/40\n",
      "4263/4263 [==============================] - 1s 120us/sample - loss: 0.5002 - acc: 0.8180 - val_loss: 0.5266 - val_acc: 0.7975\n",
      "Epoch 32/40\n",
      "4263/4263 [==============================] - 0s 106us/sample - loss: 0.4883 - acc: 0.8278 - val_loss: 0.5250 - val_acc: 0.8008\n"
     ]
    }
   ],
   "source": [
    "from keras.optimizers import RMSprop\n",
    "from keras.callbacks import ModelCheckpoint\n",
    "from tensorflow.keras.callbacks import EarlyStopping\n",
    "\n",
    "model_fasttext.compile(loss='binary_crossentropy', optimizer='adam', metrics=['accuracy'])\n",
    "\n",
    "es_callback = EarlyStopping(monitor='val_loss', patience=3)\n",
    "\n",
    "history =model_fasttext.fit(word_seq_train, y_train, batch_size=256,\n",
    "          epochs=num_epochs, validation_split=0.3, callbacks=[es_callback], shuffle=False)"
   ]
  },
  {
   "cell_type": "code",
   "execution_count": 78,
   "metadata": {},
   "outputs": [
    {
     "data": {
      "image/png": "[encoded data removed]",
      "text/plain": [
       "<Figure size 432x288 with 1 Axes>"
      ]
     },
     "metadata": {},
     "output_type": "display_data"
    }
   ],
   "source": [
    "#generate plots\n",
    "plt.figure()\n",
    "plt.plot(history.history['loss'], lw=2.0, color='b', label='train')\n",
    "plt.plot(history.history['val_loss'], lw=2.0, color='r', label='val')\n",
    "plt.title('LSTM with fastText sentiment loss graph')\n",
    "plt.xlabel('Epochs')\n",
    "plt.ylabel('Cross-Entropy Loss')\n",
    "plt.legend(loc='upper right')\n",
    "plt.show()"
   ]
  },
  {
   "cell_type": "code",
   "execution_count": 79,
   "metadata": {},
   "outputs": [
    {
     "data": {
      "image/png": "[encoded data removed]",
      "text/plain": [
       "<Figure size 432x288 with 1 Axes>"
      ]
     },
     "metadata": {},
     "output_type": "display_data"
    }
   ],
   "source": [
    "plt.figure()\n",
    "plt.plot(history.history['acc'], lw=2.0, color='b', label='train')\n",
    "plt.plot(history.history['val_acc'], lw=2.0, color='r', label='val')\n",
    "plt.title('LSTM with fasttext sentiment accuracy')\n",
    "plt.xlabel('Epochs')\n",
    "plt.ylabel('Accuracy')\n",
    "plt.legend(loc='upper left')\n",
    "plt.show()"
   ]
  },
  {
   "cell_type": "code",
   "execution_count": 80,
   "metadata": {},
   "outputs": [
    {
     "ename": "TypeError",
     "evalue": "Cannot interpret feed_dict key as Tensor: Tensor Tensor(\"Placeholder_2:0\", shape=(), dtype=float32) is not an element of this graph.",
     "output_type": "error",
     "traceback": [
      "\u001b[0;31m---------------------------------------------------------------------------\u001b[0m",
      "\u001b[0;31mValueError\u001b[0m                                Traceback (most recent call last)",
      "\u001b[0;32m~/.local/lib/python3.6/site-packages/tensorflow/python/client/session.py\u001b[0m in \u001b[0;36m_run\u001b[0;34m(self, handle, fetches, feed_dict, options, run_metadata)\u001b[0m\n\u001b[1;32m   1112\u001b[0m             subfeed_t = self.graph.as_graph_element(\n\u001b[0;32m-> 1113\u001b[0;31m                 subfeed, allow_tensor=True, allow_operation=False)\n\u001b[0m\u001b[1;32m   1114\u001b[0m           \u001b[0;32mexcept\u001b[0m \u001b[0mException\u001b[0m \u001b[0;32mas\u001b[0m \u001b[0me\u001b[0m\u001b[0;34m:\u001b[0m\u001b[0;34m\u001b[0m\u001b[0;34m\u001b[0m\u001b[0m\n",
      "\u001b[0;32m~/.local/lib/python3.6/site-packages/tensorflow/python/framework/ops.py\u001b[0m in \u001b[0;36mas_graph_element\u001b[0;34m(self, obj, allow_tensor, allow_operation)\u001b[0m\n\u001b[1;32m   3795\u001b[0m     \u001b[0;32mwith\u001b[0m \u001b[0mself\u001b[0m\u001b[0;34m.\u001b[0m\u001b[0m_lock\u001b[0m\u001b[0;34m:\u001b[0m\u001b[0;34m\u001b[0m\u001b[0;34m\u001b[0m\u001b[0m\n\u001b[0;32m-> 3796\u001b[0;31m       \u001b[0;32mreturn\u001b[0m \u001b[0mself\u001b[0m\u001b[0;34m.\u001b[0m\u001b[0m_as_graph_element_locked\u001b[0m\u001b[0;34m(\u001b[0m\u001b[0mobj\u001b[0m\u001b[0;34m,\u001b[0m \u001b[0mallow_tensor\u001b[0m\u001b[0;34m,\u001b[0m \u001b[0mallow_operation\u001b[0m\u001b[0;34m)\u001b[0m\u001b[0;34m\u001b[0m\u001b[0;34m\u001b[0m\u001b[0m\n\u001b[0m\u001b[1;32m   3797\u001b[0m \u001b[0;34m\u001b[0m\u001b[0m\n",
      "\u001b[0;32m~/.local/lib/python3.6/site-packages/tensorflow/python/framework/ops.py\u001b[0m in \u001b[0;36m_as_graph_element_locked\u001b[0;34m(self, obj, allow_tensor, allow_operation)\u001b[0m\n\u001b[1;32m   3874\u001b[0m       \u001b[0;32mif\u001b[0m \u001b[0mobj\u001b[0m\u001b[0;34m.\u001b[0m\u001b[0mgraph\u001b[0m \u001b[0;32mis\u001b[0m \u001b[0;32mnot\u001b[0m \u001b[0mself\u001b[0m\u001b[0;34m:\u001b[0m\u001b[0;34m\u001b[0m\u001b[0;34m\u001b[0m\u001b[0m\n\u001b[0;32m-> 3875\u001b[0;31m         \u001b[0;32mraise\u001b[0m \u001b[0mValueError\u001b[0m\u001b[0;34m(\u001b[0m\u001b[0;34m\"Tensor %s is not an element of this graph.\"\u001b[0m \u001b[0;34m%\u001b[0m \u001b[0mobj\u001b[0m\u001b[0;34m)\u001b[0m\u001b[0;34m\u001b[0m\u001b[0;34m\u001b[0m\u001b[0m\n\u001b[0m\u001b[1;32m   3876\u001b[0m       \u001b[0;32mreturn\u001b[0m \u001b[0mobj\u001b[0m\u001b[0;34m\u001b[0m\u001b[0;34m\u001b[0m\u001b[0m\n",
      "\u001b[0;31mValueError\u001b[0m: Tensor Tensor(\"Placeholder_2:0\", shape=(), dtype=float32) is not an element of this graph.",
      "\nDuring handling of the above exception, another exception occurred:\n",
      "\u001b[0;31mTypeError\u001b[0m                                 Traceback (most recent call last)",
      "\u001b[0;32m<ipython-input-80-57f6c6078772>\u001b[0m in \u001b[0;36m<module>\u001b[0;34m\u001b[0m\n\u001b[0;32m----> 1\u001b[0;31m \u001b[0mpredictions_lstm_fastext\u001b[0m \u001b[0;34m=\u001b[0m \u001b[0mmodel_gloVe\u001b[0m\u001b[0;34m.\u001b[0m\u001b[0mpredict_classes\u001b[0m\u001b[0;34m(\u001b[0m\u001b[0mword_seq_test\u001b[0m\u001b[0;34m)\u001b[0m\u001b[0;34m\u001b[0m\u001b[0;34m\u001b[0m\u001b[0m\n\u001b[0m\u001b[1;32m      2\u001b[0m \u001b[0msample_lstm_fastext\u001b[0m\u001b[0;34m=\u001b[0m\u001b[0mpd\u001b[0m\u001b[0;34m.\u001b[0m\u001b[0mread_csv\u001b[0m\u001b[0;34m(\u001b[0m\u001b[0;34m'test_dat.csv'\u001b[0m\u001b[0;34m)\u001b[0m\u001b[0;34m\u001b[0m\u001b[0;34m\u001b[0m\u001b[0m\n\u001b[1;32m      3\u001b[0m \u001b[0msample_lstm_fastext\u001b[0m\u001b[0;34m[\u001b[0m\u001b[0;34m'pred'\u001b[0m\u001b[0;34m]\u001b[0m\u001b[0;34m=\u001b[0m \u001b[0;34m(\u001b[0m\u001b[0mpredictions_lstm_fastext\u001b[0m\u001b[0;34m>=\u001b[0m\u001b[0;36m0.5\u001b[0m\u001b[0;34m)\u001b[0m\u001b[0;34m.\u001b[0m\u001b[0mastype\u001b[0m\u001b[0;34m(\u001b[0m\u001b[0mint\u001b[0m\u001b[0;34m)\u001b[0m\u001b[0;34m\u001b[0m\u001b[0;34m\u001b[0m\u001b[0m\n",
      "\u001b[0;32m~/.local/lib/python3.6/site-packages/tensorflow/python/keras/engine/sequential.py\u001b[0m in \u001b[0;36mpredict_classes\u001b[0;34m(self, x, batch_size, verbose)\u001b[0m\n\u001b[1;32m    316\u001b[0m         \u001b[0mA\u001b[0m \u001b[0mnumpy\u001b[0m \u001b[0marray\u001b[0m \u001b[0mof\u001b[0m \u001b[0;32mclass\u001b[0m \u001b[0mpredictions\u001b[0m\u001b[0;34m.\u001b[0m\u001b[0;34m\u001b[0m\u001b[0;34m\u001b[0m\u001b[0m\n\u001b[1;32m    317\u001b[0m     \"\"\"\n\u001b[0;32m--> 318\u001b[0;31m     \u001b[0mproba\u001b[0m \u001b[0;34m=\u001b[0m \u001b[0mself\u001b[0m\u001b[0;34m.\u001b[0m\u001b[0mpredict\u001b[0m\u001b[0;34m(\u001b[0m\u001b[0mx\u001b[0m\u001b[0;34m,\u001b[0m \u001b[0mbatch_size\u001b[0m\u001b[0;34m=\u001b[0m\u001b[0mbatch_size\u001b[0m\u001b[0;34m,\u001b[0m \u001b[0mverbose\u001b[0m\u001b[0;34m=\u001b[0m\u001b[0mverbose\u001b[0m\u001b[0;34m)\u001b[0m\u001b[0;34m\u001b[0m\u001b[0;34m\u001b[0m\u001b[0m\n\u001b[0m\u001b[1;32m    319\u001b[0m     \u001b[0;32mif\u001b[0m \u001b[0mproba\u001b[0m\u001b[0;34m.\u001b[0m\u001b[0mshape\u001b[0m\u001b[0;34m[\u001b[0m\u001b[0;34m-\u001b[0m\u001b[0;36m1\u001b[0m\u001b[0;34m]\u001b[0m \u001b[0;34m>\u001b[0m \u001b[0;36m1\u001b[0m\u001b[0;34m:\u001b[0m\u001b[0;34m\u001b[0m\u001b[0;34m\u001b[0m\u001b[0m\n\u001b[1;32m    320\u001b[0m       \u001b[0;32mreturn\u001b[0m \u001b[0mproba\u001b[0m\u001b[0;34m.\u001b[0m\u001b[0margmax\u001b[0m\u001b[0;34m(\u001b[0m\u001b[0maxis\u001b[0m\u001b[0;34m=\u001b[0m\u001b[0;34m-\u001b[0m\u001b[0;36m1\u001b[0m\u001b[0;34m)\u001b[0m\u001b[0;34m\u001b[0m\u001b[0;34m\u001b[0m\u001b[0m\n",
      "\u001b[0;32m~/.local/lib/python3.6/site-packages/tensorflow/python/keras/engine/training.py\u001b[0m in \u001b[0;36mpredict\u001b[0;34m(self, x, batch_size, verbose, steps, callbacks, max_queue_size, workers, use_multiprocessing)\u001b[0m\n\u001b[1;32m   1076\u001b[0m           \u001b[0mverbose\u001b[0m\u001b[0;34m=\u001b[0m\u001b[0mverbose\u001b[0m\u001b[0;34m,\u001b[0m\u001b[0;34m\u001b[0m\u001b[0;34m\u001b[0m\u001b[0m\n\u001b[1;32m   1077\u001b[0m           \u001b[0msteps\u001b[0m\u001b[0;34m=\u001b[0m\u001b[0msteps\u001b[0m\u001b[0;34m,\u001b[0m\u001b[0;34m\u001b[0m\u001b[0;34m\u001b[0m\u001b[0m\n\u001b[0;32m-> 1078\u001b[0;31m           callbacks=callbacks)\n\u001b[0m\u001b[1;32m   1079\u001b[0m \u001b[0;34m\u001b[0m\u001b[0m\n\u001b[1;32m   1080\u001b[0m   \u001b[0;32mdef\u001b[0m \u001b[0mreset_metrics\u001b[0m\u001b[0;34m(\u001b[0m\u001b[0mself\u001b[0m\u001b[0;34m)\u001b[0m\u001b[0;34m:\u001b[0m\u001b[0;34m\u001b[0m\u001b[0;34m\u001b[0m\u001b[0m\n",
      "\u001b[0;32m~/.local/lib/python3.6/site-packages/tensorflow/python/keras/engine/training_arrays.py\u001b[0m in \u001b[0;36mmodel_iteration\u001b[0;34m(model, inputs, targets, sample_weights, batch_size, epochs, verbose, callbacks, val_inputs, val_targets, val_sample_weights, shuffle, initial_epoch, steps_per_epoch, validation_steps, validation_freq, mode, validation_in_fit, prepared_feed_values_from_dataset, steps_name, **kwargs)\u001b[0m\n\u001b[1;32m    248\u001b[0m     \u001b[0;31m# Setup work for each epoch\u001b[0m\u001b[0;34m\u001b[0m\u001b[0;34m\u001b[0m\u001b[0;34m\u001b[0m\u001b[0m\n\u001b[1;32m    249\u001b[0m     \u001b[0mepoch_logs\u001b[0m \u001b[0;34m=\u001b[0m \u001b[0;34m{\u001b[0m\u001b[0;34m}\u001b[0m\u001b[0;34m\u001b[0m\u001b[0;34m\u001b[0m\u001b[0m\n\u001b[0;32m--> 250\u001b[0;31m     \u001b[0mmodel\u001b[0m\u001b[0;34m.\u001b[0m\u001b[0mreset_metrics\u001b[0m\u001b[0;34m(\u001b[0m\u001b[0;34m)\u001b[0m\u001b[0;34m\u001b[0m\u001b[0;34m\u001b[0m\u001b[0m\n\u001b[0m\u001b[1;32m    251\u001b[0m     \u001b[0;32mif\u001b[0m \u001b[0mmode\u001b[0m \u001b[0;34m==\u001b[0m \u001b[0mModeKeys\u001b[0m\u001b[0;34m.\u001b[0m\u001b[0mTRAIN\u001b[0m\u001b[0;34m:\u001b[0m\u001b[0;34m\u001b[0m\u001b[0;34m\u001b[0m\u001b[0m\n\u001b[1;32m    252\u001b[0m       \u001b[0mcallbacks\u001b[0m\u001b[0;34m.\u001b[0m\u001b[0mon_epoch_begin\u001b[0m\u001b[0;34m(\u001b[0m\u001b[0mepoch\u001b[0m\u001b[0;34m,\u001b[0m \u001b[0mepoch_logs\u001b[0m\u001b[0;34m)\u001b[0m\u001b[0;34m\u001b[0m\u001b[0;34m\u001b[0m\u001b[0m\n",
      "\u001b[0;32m~/.local/lib/python3.6/site-packages/tensorflow/python/keras/engine/training.py\u001b[0m in \u001b[0;36mreset_metrics\u001b[0;34m(self)\u001b[0m\n\u001b[1;32m   1082\u001b[0m     \u001b[0;32mif\u001b[0m \u001b[0mhasattr\u001b[0m\u001b[0;34m(\u001b[0m\u001b[0mself\u001b[0m\u001b[0;34m,\u001b[0m \u001b[0;34m'metrics'\u001b[0m\u001b[0;34m)\u001b[0m\u001b[0;34m:\u001b[0m\u001b[0;34m\u001b[0m\u001b[0;34m\u001b[0m\u001b[0m\n\u001b[1;32m   1083\u001b[0m       \u001b[0;32mfor\u001b[0m \u001b[0mm\u001b[0m \u001b[0;32min\u001b[0m \u001b[0mself\u001b[0m\u001b[0;34m.\u001b[0m\u001b[0mmetrics\u001b[0m\u001b[0;34m:\u001b[0m\u001b[0;34m\u001b[0m\u001b[0;34m\u001b[0m\u001b[0m\n\u001b[0;32m-> 1084\u001b[0;31m         \u001b[0mm\u001b[0m\u001b[0;34m.\u001b[0m\u001b[0mreset_states\u001b[0m\u001b[0;34m(\u001b[0m\u001b[0;34m)\u001b[0m\u001b[0;34m\u001b[0m\u001b[0;34m\u001b[0m\u001b[0m\n\u001b[0m\u001b[1;32m   1085\u001b[0m \u001b[0;34m\u001b[0m\u001b[0m\n\u001b[1;32m   1086\u001b[0m     \u001b[0;31m# Reset the state of loss metric wrappers.\u001b[0m\u001b[0;34m\u001b[0m\u001b[0;34m\u001b[0m\u001b[0;34m\u001b[0m\u001b[0m\n",
      "\u001b[0;32m~/.local/lib/python3.6/site-packages/tensorflow/python/keras/metrics.py\u001b[0m in \u001b[0;36mreset_states\u001b[0;34m(self)\u001b[0m\n\u001b[1;32m    197\u001b[0m     \u001b[0mwhen\u001b[0m \u001b[0ma\u001b[0m \u001b[0mmetric\u001b[0m \u001b[0;32mis\u001b[0m \u001b[0mevaluated\u001b[0m \u001b[0mduring\u001b[0m \u001b[0mtraining\u001b[0m\u001b[0;34m.\u001b[0m\u001b[0;34m\u001b[0m\u001b[0;34m\u001b[0m\u001b[0m\n\u001b[1;32m    198\u001b[0m     \"\"\"\n\u001b[0;32m--> 199\u001b[0;31m     \u001b[0mK\u001b[0m\u001b[0;34m.\u001b[0m\u001b[0mbatch_set_value\u001b[0m\u001b[0;34m(\u001b[0m\u001b[0;34m[\u001b[0m\u001b[0;34m(\u001b[0m\u001b[0mv\u001b[0m\u001b[0;34m,\u001b[0m \u001b[0;36m0\u001b[0m\u001b[0;34m)\u001b[0m \u001b[0;32mfor\u001b[0m \u001b[0mv\u001b[0m \u001b[0;32min\u001b[0m \u001b[0mself\u001b[0m\u001b[0;34m.\u001b[0m\u001b[0mvariables\u001b[0m\u001b[0;34m]\u001b[0m\u001b[0;34m)\u001b[0m\u001b[0;34m\u001b[0m\u001b[0;34m\u001b[0m\u001b[0m\n\u001b[0m\u001b[1;32m    200\u001b[0m \u001b[0;34m\u001b[0m\u001b[0m\n\u001b[1;32m    201\u001b[0m   \u001b[0;34m@\u001b[0m\u001b[0mabc\u001b[0m\u001b[0;34m.\u001b[0m\u001b[0mabstractmethod\u001b[0m\u001b[0;34m\u001b[0m\u001b[0;34m\u001b[0m\u001b[0m\n",
      "\u001b[0;32m~/.local/lib/python3.6/site-packages/tensorflow/python/keras/backend.py\u001b[0m in \u001b[0;36mbatch_set_value\u001b[0;34m(tuples)\u001b[0m\n\u001b[1;32m   3069\u001b[0m           \u001b[0massign_ops\u001b[0m\u001b[0;34m.\u001b[0m\u001b[0mappend\u001b[0m\u001b[0;34m(\u001b[0m\u001b[0massign_op\u001b[0m\u001b[0;34m)\u001b[0m\u001b[0;34m\u001b[0m\u001b[0;34m\u001b[0m\u001b[0m\n\u001b[1;32m   3070\u001b[0m           \u001b[0mfeed_dict\u001b[0m\u001b[0;34m[\u001b[0m\u001b[0massign_placeholder\u001b[0m\u001b[0;34m]\u001b[0m \u001b[0;34m=\u001b[0m \u001b[0mvalue\u001b[0m\u001b[0;34m\u001b[0m\u001b[0;34m\u001b[0m\u001b[0m\n\u001b[0;32m-> 3071\u001b[0;31m         \u001b[0mget_session\u001b[0m\u001b[0;34m(\u001b[0m\u001b[0;34m)\u001b[0m\u001b[0;34m.\u001b[0m\u001b[0mrun\u001b[0m\u001b[0;34m(\u001b[0m\u001b[0massign_ops\u001b[0m\u001b[0;34m,\u001b[0m \u001b[0mfeed_dict\u001b[0m\u001b[0;34m=\u001b[0m\u001b[0mfeed_dict\u001b[0m\u001b[0;34m)\u001b[0m\u001b[0;34m\u001b[0m\u001b[0;34m\u001b[0m\u001b[0m\n\u001b[0m\u001b[1;32m   3072\u001b[0m \u001b[0;34m\u001b[0m\u001b[0m\n\u001b[1;32m   3073\u001b[0m \u001b[0;34m\u001b[0m\u001b[0m\n",
      "\u001b[0;32m~/.local/lib/python3.6/site-packages/tensorflow/python/client/session.py\u001b[0m in \u001b[0;36mrun\u001b[0;34m(self, fetches, feed_dict, options, run_metadata)\u001b[0m\n\u001b[1;32m    948\u001b[0m     \u001b[0;32mtry\u001b[0m\u001b[0;34m:\u001b[0m\u001b[0;34m\u001b[0m\u001b[0;34m\u001b[0m\u001b[0m\n\u001b[1;32m    949\u001b[0m       result = self._run(None, fetches, feed_dict, options_ptr,\n\u001b[0;32m--> 950\u001b[0;31m                          run_metadata_ptr)\n\u001b[0m\u001b[1;32m    951\u001b[0m       \u001b[0;32mif\u001b[0m \u001b[0mrun_metadata\u001b[0m\u001b[0;34m:\u001b[0m\u001b[0;34m\u001b[0m\u001b[0;34m\u001b[0m\u001b[0m\n\u001b[1;32m    952\u001b[0m         \u001b[0mproto_data\u001b[0m \u001b[0;34m=\u001b[0m \u001b[0mtf_session\u001b[0m\u001b[0;34m.\u001b[0m\u001b[0mTF_GetBuffer\u001b[0m\u001b[0;34m(\u001b[0m\u001b[0mrun_metadata_ptr\u001b[0m\u001b[0;34m)\u001b[0m\u001b[0;34m\u001b[0m\u001b[0;34m\u001b[0m\u001b[0m\n",
      "\u001b[0;32m~/.local/lib/python3.6/site-packages/tensorflow/python/client/session.py\u001b[0m in \u001b[0;36m_run\u001b[0;34m(self, handle, fetches, feed_dict, options, run_metadata)\u001b[0m\n\u001b[1;32m   1114\u001b[0m           \u001b[0;32mexcept\u001b[0m \u001b[0mException\u001b[0m \u001b[0;32mas\u001b[0m \u001b[0me\u001b[0m\u001b[0;34m:\u001b[0m\u001b[0;34m\u001b[0m\u001b[0;34m\u001b[0m\u001b[0m\n\u001b[1;32m   1115\u001b[0m             raise TypeError(\n\u001b[0;32m-> 1116\u001b[0;31m                 'Cannot interpret feed_dict key as Tensor: ' + e.args[0])\n\u001b[0m\u001b[1;32m   1117\u001b[0m \u001b[0;34m\u001b[0m\u001b[0m\n\u001b[1;32m   1118\u001b[0m           \u001b[0;32mif\u001b[0m \u001b[0misinstance\u001b[0m\u001b[0;34m(\u001b[0m\u001b[0msubfeed_val\u001b[0m\u001b[0;34m,\u001b[0m \u001b[0mops\u001b[0m\u001b[0;34m.\u001b[0m\u001b[0mTensor\u001b[0m\u001b[0;34m)\u001b[0m\u001b[0;34m:\u001b[0m\u001b[0;34m\u001b[0m\u001b[0;34m\u001b[0m\u001b[0m\n",
      "\u001b[0;31mTypeError\u001b[0m: Cannot interpret feed_dict key as Tensor: Tensor Tensor(\"Placeholder_2:0\", shape=(), dtype=float32) is not an element of this graph."
     ]
    }
   ],
   "source": [
    "predictions_lstm_fastext = model_gloVe.predict_classes(word_seq_test)\n",
    "sample_lstm_fastext=pd.read_csv('test_dat.csv')\n",
    "sample_lstm_fastext['pred']= (predictions_lstm_fastext>=0.5).astype(int)"
   ]
  },
  {
   "cell_type": "code",
   "execution_count": 54,
   "metadata": {},
   "outputs": [
    {
     "name": "stdout",
     "output_type": "stream",
     "text": [
      "Accuracy With fasttext :\n",
      "0.8207485226526592\n",
      "              precision    recall  f1-score   support\n",
      "\n",
      "           0       0.82      0.88      0.85       874\n",
      "           1       0.82      0.75      0.78       649\n",
      "\n",
      "    accuracy                           0.82      1523\n",
      "   macro avg       0.82      0.81      0.81      1523\n",
      "weighted avg       0.82      0.82      0.82      1523\n",
      "\n"
     ]
    }
   ],
   "source": [
    "\n",
    "import sklearn\n",
    "print(\"Accuracy With fasttext :\")\n",
    "print(sklearn.metrics.accuracy_score(sample_LSTMGLOVE.target, sample.pred))\n",
    "from sklearn import metrics\n",
    "print(metrics.classification_report(sample.target, sample.pred))"
   ]
  },
  {
   "cell_type": "code",
   "execution_count": 55,
   "metadata": {},
   "outputs": [
    {
     "name": "stdout",
     "output_type": "stream",
     "text": [
      "loading word embeddings...\n"
     ]
    }
   ],
   "source": [
    "print('loading word embeddings...')\n",
    "\n",
    "embeddings_index = {}\n",
    "f = codecs.open('../glove.840B.300d.txt', encoding='utf-8')"
   ]
  },
  {
   "cell_type": "code",
   "execution_count": 56,
   "metadata": {},
   "outputs": [
    {
     "name": "stdout",
     "output_type": "stream",
     "text": [
      "preparing embedding matrix...\n",
      "number of null word embeddings: 22248\n"
     ]
    }
   ],
   "source": [
    "#embedding matrix\n",
    "\n",
    "print('preparing embedding matrix...')\n",
    "\n",
    "words_not_found = []\n",
    "nb_words = min(MAX_NB_WORDS, len(word_index)+1)\n",
    "embedding_matrix = np.zeros((nb_words, embed_dim))\n",
    "\n",
    "for word, i in word_index.items():\n",
    "    if i >= nb_words:\n",
    "        continue\n",
    "    embedding_vector = embeddings_index.get(word)\n",
    "    if (embedding_vector is not None) and len(embedding_vector) > 0:\n",
    "        # words not found in embedding index will be all-zeros.\n",
    "        embedding_matrix[i] = embedding_vector\n",
    "    else:\n",
    "        words_not_found.append(word)\n",
    "print('number of null word embeddings: %d' % np.sum(np.sum(embedding_matrix, axis=1) == 0))"
   ]
  },
  {
   "cell_type": "code",
   "execution_count": 57,
   "metadata": {},
   "outputs": [
    {
     "name": "stdout",
     "output_type": "stream",
     "text": [
      "Model: \"sequential_6\"\n",
      "_________________________________________________________________\n",
      "Layer (type)                 Output Shape              Param #   \n",
      "=================================================================\n",
      "embedding_6 (Embedding)      (None, 21, 300)           6674400   \n",
      "_________________________________________________________________\n",
      "dropout_7 (Dropout)          (None, 21, 300)           0         \n",
      "_________________________________________________________________\n",
      "lstm_3 (LSTM)                (None, 21, 16)            20288     \n",
      "_________________________________________________________________\n",
      "flatten_2 (Flatten)          (None, 336)               0         \n",
      "_________________________________________________________________\n",
      "dense_8 (Dense)              (None, 512)               172544    \n",
      "_________________________________________________________________\n",
      "dropout_8 (Dropout)          (None, 512)               0         \n",
      "_________________________________________________________________\n",
      "dense_9 (Dense)              (None, 8)                 4104      \n",
      "_________________________________________________________________\n",
      "dropout_9 (Dropout)          (None, 8)                 0         \n",
      "_________________________________________________________________\n",
      "dense_10 (Dense)             (None, 1)                 9         \n",
      "=================================================================\n",
      "Total params: 6,871,345\n",
      "Trainable params: 196,945\n",
      "Non-trainable params: 6,674,400\n",
      "_________________________________________________________________\n"
     ]
    }
   ],
   "source": [
    "from keras.layers import BatchNormalization\n",
    "import tensorflow as tf\n",
    "\n",
    "\n",
    "max_features =50000\n",
    "#nb_words=22248\n",
    "embedding_dim =16\n",
    "sequence_length = 100\n",
    "\n",
    "model = tf.keras.Sequential()\n",
    "#model.add(tf.keras.layers.Embedding(max_features +1, embedding_dim, input_length=sequence_length,\\\n",
    "                                    #embeddings_regularizer = regularizers.l2(0.005))) \n",
    "model.add(tf.keras.layers.Embedding(nb_words,embed_dim,input_length=max_seq_len,weights=[embedding_matrix],trainable=False))\n",
    "model.add(tf.keras.layers.Dropout(0.4))\n",
    "\n",
    "model.add(tf.keras.layers.LSTM(embedding_dim,dropout=0.2, recurrent_dropout=0.2,return_sequences=True,\\\n",
    "                                                             kernel_regularizer=regularizers.l2(0.005),\\\n",
    "                                                             bias_regularizer=regularizers.l2(0.005)))\n",
    "\n",
    "model.add(tf.keras.layers.Flatten())\n",
    "\n",
    "model.add(tf.keras.layers.Dense(512, activation='relu',\\\n",
    "                                kernel_regularizer=regularizers.l2(0.001),\\\n",
    "                                bias_regularizer=regularizers.l2(0.001),))\n",
    "model.add(tf.keras.layers.Dropout(0.4))\n",
    "\n",
    "model.add(tf.keras.layers.Dense(8, activation='relu',\\\n",
    "                                kernel_regularizer=regularizers.l2(0.001),\\\n",
    "                                bias_regularizer=regularizers.l2(0.001),))\n",
    "model.add(tf.keras.layers.Dropout(0.4))\n",
    "\n",
    "\n",
    "model.add(tf.keras.layers.Dense(1,activation='sigmoid'))\n",
    "                               \n",
    "\n",
    "\n",
    "\n",
    "model.summary()\n",
    "model.compile(loss=tf.keras.losses.BinaryCrossentropy(),optimizer=tf.keras.optimizers.Adam(1e-3),metrics=[tf.keras.metrics.BinaryAccuracy()])"
   ]
  },
  {
   "cell_type": "code",
   "execution_count": 58,
   "metadata": {},
   "outputs": [
    {
     "name": "stdout",
     "output_type": "stream",
     "text": [
      "Train on 4263 samples, validate on 1827 samples\n",
      "Epoch 1/40\n",
      "4263/4263 [==============================] - 1s 301us/sample - loss: 1.5261 - acc: 0.5738 - val_loss: 1.3319 - val_acc: 0.5594\n",
      "Epoch 2/40\n",
      "4263/4263 [==============================] - 0s 111us/sample - loss: 1.2085 - acc: 0.5738 - val_loss: 1.0868 - val_acc: 0.5594\n",
      "Epoch 3/40\n",
      "4263/4263 [==============================] - 0s 109us/sample - loss: 1.0126 - acc: 0.5738 - val_loss: 0.9414 - val_acc: 0.5594\n",
      "Epoch 4/40\n",
      "4263/4263 [==============================] - 0s 107us/sample - loss: 0.8981 - acc: 0.5738 - val_loss: 0.8577 - val_acc: 0.5594\n",
      "Epoch 5/40\n",
      "4263/4263 [==============================] - 1s 119us/sample - loss: 0.8325 - acc: 0.5738 - val_loss: 0.8100 - val_acc: 0.5594\n",
      "Epoch 6/40\n",
      "4263/4263 [==============================] - 0s 113us/sample - loss: 0.7949 - acc: 0.5738 - val_loss: 0.7825 - val_acc: 0.5594\n",
      "Epoch 7/40\n",
      "4263/4263 [==============================] - 0s 111us/sample - loss: 0.7730 - acc: 0.5738 - val_loss: 0.7662 - val_acc: 0.5594\n",
      "Epoch 8/40\n",
      "4263/4263 [==============================] - 0s 110us/sample - loss: 0.7597 - acc: 0.5738 - val_loss: 0.7563 - val_acc: 0.5594\n",
      "Epoch 9/40\n",
      "4263/4263 [==============================] - 0s 108us/sample - loss: 0.7514 - acc: 0.5738 - val_loss: 0.7498 - val_acc: 0.5594\n",
      "Epoch 10/40\n",
      "4263/4263 [==============================] - 0s 109us/sample - loss: 0.7457 - acc: 0.5738 - val_loss: 0.7453 - val_acc: 0.5594\n",
      "Epoch 11/40\n",
      "4263/4263 [==============================] - 1s 128us/sample - loss: 0.7416 - acc: 0.5738 - val_loss: 0.7419 - val_acc: 0.5594\n",
      "Epoch 12/40\n",
      "4263/4263 [==============================] - 0s 109us/sample - loss: 0.7384 - acc: 0.5738 - val_loss: 0.7392 - val_acc: 0.5594\n",
      "Epoch 13/40\n",
      "4263/4263 [==============================] - 0s 114us/sample - loss: 0.7357 - acc: 0.5738 - val_loss: 0.7368 - val_acc: 0.5594\n",
      "Epoch 14/40\n",
      "4263/4263 [==============================] - 0s 110us/sample - loss: 0.7333 - acc: 0.5738 - val_loss: 0.7346 - val_acc: 0.5594\n",
      "Epoch 15/40\n",
      "4263/4263 [==============================] - 0s 112us/sample - loss: 0.7311 - acc: 0.5738 - val_loss: 0.7326 - val_acc: 0.5594\n",
      "Epoch 16/40\n",
      "4263/4263 [==============================] - 1s 120us/sample - loss: 0.7290 - acc: 0.5738 - val_loss: 0.7307 - val_acc: 0.5594\n",
      "Epoch 17/40\n",
      "4263/4263 [==============================] - 1s 134us/sample - loss: 0.7270 - acc: 0.5738 - val_loss: 0.7289 - val_acc: 0.5594\n",
      "Epoch 18/40\n",
      "4263/4263 [==============================] - 0s 110us/sample - loss: 0.7251 - acc: 0.5738 - val_loss: 0.7271 - val_acc: 0.5594\n",
      "Epoch 19/40\n",
      "4263/4263 [==============================] - 0s 111us/sample - loss: 0.7233 - acc: 0.5738 - val_loss: 0.7255 - val_acc: 0.5594\n",
      "Epoch 20/40\n",
      "4263/4263 [==============================] - 1s 136us/sample - loss: 0.7216 - acc: 0.5738 - val_loss: 0.7238 - val_acc: 0.5594\n",
      "Epoch 21/40\n",
      "4263/4263 [==============================] - 1s 119us/sample - loss: 0.7199 - acc: 0.5738 - val_loss: 0.7223 - val_acc: 0.5594\n",
      "Epoch 22/40\n",
      "4263/4263 [==============================] - 0s 113us/sample - loss: 0.7183 - acc: 0.5738 - val_loss: 0.7208 - val_acc: 0.5594\n",
      "Epoch 23/40\n",
      "4263/4263 [==============================] - 0s 108us/sample - loss: 0.7167 - acc: 0.5738 - val_loss: 0.7194 - val_acc: 0.5594\n",
      "Epoch 24/40\n",
      "4263/4263 [==============================] - 0s 114us/sample - loss: 0.7153 - acc: 0.5738 - val_loss: 0.7180 - val_acc: 0.5594\n",
      "Epoch 25/40\n",
      "4263/4263 [==============================] - 0s 107us/sample - loss: 0.7138 - acc: 0.5738 - val_loss: 0.7166 - val_acc: 0.5594\n",
      "Epoch 26/40\n",
      "4263/4263 [==============================] - 0s 110us/sample - loss: 0.7124 - acc: 0.5738 - val_loss: 0.7153 - val_acc: 0.5594\n",
      "Epoch 27/40\n",
      "4263/4263 [==============================] - 1s 146us/sample - loss: 0.7111 - acc: 0.5738 - val_loss: 0.7141 - val_acc: 0.5594\n",
      "Epoch 28/40\n",
      "4263/4263 [==============================] - 1s 137us/sample - loss: 0.7098 - acc: 0.5738 - val_loss: 0.7129 - val_acc: 0.5594\n",
      "Epoch 29/40\n",
      "4263/4263 [==============================] - 1s 123us/sample - loss: 0.7086 - acc: 0.5738 - val_loss: 0.7118 - val_acc: 0.5594\n",
      "Epoch 30/40\n",
      "4263/4263 [==============================] - 1s 136us/sample - loss: 0.7074 - acc: 0.5738 - val_loss: 0.7106 - val_acc: 0.5594\n",
      "Epoch 31/40\n",
      "4263/4263 [==============================] - 1s 125us/sample - loss: 0.7063 - acc: 0.5738 - val_loss: 0.7096 - val_acc: 0.5594\n",
      "Epoch 32/40\n",
      "4263/4263 [==============================] - 1s 121us/sample - loss: 0.7052 - acc: 0.5738 - val_loss: 0.7085 - val_acc: 0.5594\n",
      "Epoch 33/40\n",
      "4263/4263 [==============================] - 0s 112us/sample - loss: 0.7042 - acc: 0.5738 - val_loss: 0.7075 - val_acc: 0.5594\n",
      "Epoch 34/40\n",
      "4263/4263 [==============================] - 0s 112us/sample - loss: 0.7031 - acc: 0.5738 - val_loss: 0.7066 - val_acc: 0.5594\n",
      "Epoch 35/40\n",
      "4263/4263 [==============================] - 1s 125us/sample - loss: 0.7022 - acc: 0.5738 - val_loss: 0.7056 - val_acc: 0.5594\n",
      "Epoch 36/40\n",
      "4263/4263 [==============================] - 0s 111us/sample - loss: 0.7012 - acc: 0.5738 - val_loss: 0.7048 - val_acc: 0.5594\n",
      "Epoch 37/40\n",
      "4263/4263 [==============================] - 1s 118us/sample - loss: 0.7003 - acc: 0.5738 - val_loss: 0.7039 - val_acc: 0.5594\n",
      "Epoch 38/40\n",
      "4263/4263 [==============================] - 1s 138us/sample - loss: 0.6995 - acc: 0.5738 - val_loss: 0.7031 - val_acc: 0.5594\n",
      "Epoch 39/40\n",
      "4263/4263 [==============================] - 1s 129us/sample - loss: 0.6986 - acc: 0.5738 - val_loss: 0.7023 - val_acc: 0.5594\n",
      "Epoch 40/40\n",
      "4263/4263 [==============================] - 1s 131us/sample - loss: 0.6978 - acc: 0.5738 - val_loss: 0.7015 - val_acc: 0.5594\n"
     ]
    }
   ],
   "source": [
    "from keras.optimizers import RMSprop\n",
    "from keras.callbacks import ModelCheckpoint\n",
    "from tensorflow.keras.callbacks import EarlyStopping\n",
    "\n",
    "model.compile(loss='binary_crossentropy', optimizer='adam', metrics=['accuracy'])\n",
    "\n",
    "es_callback = EarlyStopping(monitor='val_loss', patience=3)\n",
    "\n",
    "history = model.fit(word_seq_train, y_train, batch_size=256,\n",
    "          epochs=num_epochs, validation_split=0.3, callbacks=[es_callback], shuffle=False)"
   ]
  },
  {
   "cell_type": "code",
   "execution_count": 60,
   "metadata": {},
   "outputs": [],
   "source": [
    "predictions = model.predict_classes(word_seq_test)\n",
    "sample=pd.read_csv('test_dat.csv')\n",
    "sample['pred']= (predictions>0.5).astype(int)"
   ]
  },
  {
   "cell_type": "code",
   "execution_count": 61,
   "metadata": {},
   "outputs": [
    {
     "name": "stdout",
     "output_type": "stream",
     "text": [
      "Accuracy With GloVe :\n",
      "0.5738673670387393\n",
      "              precision    recall  f1-score   support\n",
      "\n",
      "           0       0.57      1.00      0.73       874\n",
      "           1       0.00      0.00      0.00       649\n",
      "\n",
      "    accuracy                           0.57      1523\n",
      "   macro avg       0.29      0.50      0.36      1523\n",
      "weighted avg       0.33      0.57      0.42      1523\n",
      "\n"
     ]
    },
    {
     "name": "stderr",
     "output_type": "stream",
     "text": [
      "/opt/anaconda/envs/tfgpu-3.6.8/lib/python3.6/site-packages/sklearn/metrics/_classification.py:1221: UndefinedMetricWarning: Precision and F-score are ill-defined and being set to 0.0 in labels with no predicted samples. Use `zero_division` parameter to control this behavior.\n",
      "  _warn_prf(average, modifier, msg_start, len(result))\n"
     ]
    }
   ],
   "source": [
    "import sklearn\n",
    "print(\"Accuracy With GloVe :\")\n",
    "print(sklearn.metrics.accuracy_score(sample.target, sample.pred))\n",
    "from sklearn import metrics\n",
    "print(metrics.classification_report(sample.target, sample.pred))"
   ]
  },
  {
   "cell_type": "code",
   "execution_count": null,
   "metadata": {},
   "outputs": [],
   "source": []
  }
 ],
 "metadata": {
  "kernelspec": {
   "display_name": "Python 3",
   "language": "python",
   "name": "python3"
  },
  "language_info": {
   "codemirror_mode": {
    "name": "ipython",
    "version": 3
   },
   "file_extension": ".py",
   "mimetype": "text/x-python",
   "name": "python",
   "nbconvert_exporter": "python",
   "pygments_lexer": "ipython3",
   "version": "3.6.8"
  }
 },
 "nbformat": 4,
 "nbformat_minor": 4
}
