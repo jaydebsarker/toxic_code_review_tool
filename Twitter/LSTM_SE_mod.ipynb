{
 "cells": [
  {
   "cell_type": "code",
   "execution_count": 1,
   "metadata": {},
   "outputs": [
    {
     "name": "stderr",
     "output_type": "stream",
     "text": [
      "[nltk_data] Downloading package stopwords to\n",
      "[nltk_data]     /home/amiangshu/nltk_data...\n",
      "[nltk_data]   Package stopwords is already up-to-date!\n",
      "[nltk_data] Downloading package punkt to /home/amiangshu/nltk_data...\n",
      "[nltk_data]   Package punkt is already up-to-date!\n",
      "Using TensorFlow backend.\n",
      "/home/amiangshu/.local/lib/python3.6/site-packages/tensorflow/python/framework/dtypes.py:516: FutureWarning: Passing (type, 1) or '1type' as a synonym of type is deprecated; in a future version of numpy, it will be understood as (type, (1,)) / '(1,)type'.\n",
      "  _np_qint8 = np.dtype([(\"qint8\", np.int8, 1)])\n",
      "/home/amiangshu/.local/lib/python3.6/site-packages/tensorflow/python/framework/dtypes.py:517: FutureWarning: Passing (type, 1) or '1type' as a synonym of type is deprecated; in a future version of numpy, it will be understood as (type, (1,)) / '(1,)type'.\n",
      "  _np_quint8 = np.dtype([(\"quint8\", np.uint8, 1)])\n",
      "/home/amiangshu/.local/lib/python3.6/site-packages/tensorflow/python/framework/dtypes.py:518: FutureWarning: Passing (type, 1) or '1type' as a synonym of type is deprecated; in a future version of numpy, it will be understood as (type, (1,)) / '(1,)type'.\n",
      "  _np_qint16 = np.dtype([(\"qint16\", np.int16, 1)])\n",
      "/home/amiangshu/.local/lib/python3.6/site-packages/tensorflow/python/framework/dtypes.py:519: FutureWarning: Passing (type, 1) or '1type' as a synonym of type is deprecated; in a future version of numpy, it will be understood as (type, (1,)) / '(1,)type'.\n",
      "  _np_quint16 = np.dtype([(\"quint16\", np.uint16, 1)])\n",
      "/home/amiangshu/.local/lib/python3.6/site-packages/tensorflow/python/framework/dtypes.py:520: FutureWarning: Passing (type, 1) or '1type' as a synonym of type is deprecated; in a future version of numpy, it will be understood as (type, (1,)) / '(1,)type'.\n",
      "  _np_qint32 = np.dtype([(\"qint32\", np.int32, 1)])\n",
      "/home/amiangshu/.local/lib/python3.6/site-packages/tensorflow/python/framework/dtypes.py:525: FutureWarning: Passing (type, 1) or '1type' as a synonym of type is deprecated; in a future version of numpy, it will be understood as (type, (1,)) / '(1,)type'.\n",
      "  np_resource = np.dtype([(\"resource\", np.ubyte, 1)])\n",
      "/home/amiangshu/.local/lib/python3.6/site-packages/tensorboard/compat/tensorflow_stub/dtypes.py:541: FutureWarning: Passing (type, 1) or '1type' as a synonym of type is deprecated; in a future version of numpy, it will be understood as (type, (1,)) / '(1,)type'.\n",
      "  _np_qint8 = np.dtype([(\"qint8\", np.int8, 1)])\n",
      "/home/amiangshu/.local/lib/python3.6/site-packages/tensorboard/compat/tensorflow_stub/dtypes.py:542: FutureWarning: Passing (type, 1) or '1type' as a synonym of type is deprecated; in a future version of numpy, it will be understood as (type, (1,)) / '(1,)type'.\n",
      "  _np_quint8 = np.dtype([(\"quint8\", np.uint8, 1)])\n",
      "/home/amiangshu/.local/lib/python3.6/site-packages/tensorboard/compat/tensorflow_stub/dtypes.py:543: FutureWarning: Passing (type, 1) or '1type' as a synonym of type is deprecated; in a future version of numpy, it will be understood as (type, (1,)) / '(1,)type'.\n",
      "  _np_qint16 = np.dtype([(\"qint16\", np.int16, 1)])\n",
      "/home/amiangshu/.local/lib/python3.6/site-packages/tensorboard/compat/tensorflow_stub/dtypes.py:544: FutureWarning: Passing (type, 1) or '1type' as a synonym of type is deprecated; in a future version of numpy, it will be understood as (type, (1,)) / '(1,)type'.\n",
      "  _np_quint16 = np.dtype([(\"quint16\", np.uint16, 1)])\n",
      "/home/amiangshu/.local/lib/python3.6/site-packages/tensorboard/compat/tensorflow_stub/dtypes.py:545: FutureWarning: Passing (type, 1) or '1type' as a synonym of type is deprecated; in a future version of numpy, it will be understood as (type, (1,)) / '(1,)type'.\n",
      "  _np_qint32 = np.dtype([(\"qint32\", np.int32, 1)])\n",
      "/home/amiangshu/.local/lib/python3.6/site-packages/tensorboard/compat/tensorflow_stub/dtypes.py:550: FutureWarning: Passing (type, 1) or '1type' as a synonym of type is deprecated; in a future version of numpy, it will be understood as (type, (1,)) / '(1,)type'.\n",
      "  np_resource = np.dtype([(\"resource\", np.ubyte, 1)])\n"
     ]
    }
   ],
   "source": [
    "#For Pre-Processing\n",
    "from tqdm import tqdm\n",
    "import nltk\n",
    "from nltk.corpus import stopwords\n",
    "nltk.download('stopwords')\n",
    "nltk.download('punkt')\n",
    "from nltk.tokenize import RegexpTokenizer \n",
    "from nltk.tokenize import word_tokenize\n",
    "import os, re, csv, math, codecs\n",
    "\n",
    "\n",
    "# For Training\n",
    "import keras\n",
    "from keras import optimizers\n",
    "from keras import backend as K\n",
    "from keras import regularizers\n",
    "from keras.models import Sequential\n",
    "from keras.layers import Dense, Activation, Dropout, Flatten\n",
    "from keras.layers import Embedding, Conv1D, MaxPooling1D, GlobalMaxPooling1D\n",
    "from tensorflow.keras.layers import Embedding, LSTM, Dense, Dropout, Bidirectional\n",
    "from keras.utils import plot_model\n",
    "from keras.preprocessing import sequence\n",
    "from keras.preprocessing.text import Tokenizer\n",
    "from keras.callbacks import EarlyStopping\n",
    "\n",
    "# For array, dataset, and visualizing\n",
    "import numpy as np\n",
    "import pandas as pd\n",
    "import seaborn as sns\n",
    "import matplotlib.pyplot as plt\n",
    "\n",
    "sns.set_style(\"whitegrid\")\n",
    "np.random.seed(0)\n",
    "\n",
    "MAX_NB_WORDS = 100000\n",
    "tokenizer = RegexpTokenizer(r'\\w+')\n",
    "stop_words = set(stopwords.words('english'))\n",
    "stop_words.update(['.', ',', '\"', \"'\", ':', ';', '(', ')', '[', ']', '{', '}'])"
   ]
  },
  {
   "cell_type": "code",
   "execution_count": 2,
   "metadata": {},
   "outputs": [],
   "source": [
    "from sklearn.model_selection import train_test_split\n",
    "#load data\n",
    "data = pd.read_csv('code-review-dataset-full.csv', sep=',', header=0)\n",
    "\n",
    "#data  =pd.read_excel('../code-review-dataset-full.xlsx')\n",
    "train_data, test_data = train_test_split(data, test_size=0.2, random_state=42, shuffle=True)"
   ]
  },
  {
   "cell_type": "code",
   "execution_count": 3,
   "metadata": {},
   "outputs": [],
   "source": [
    "label_names = [\"is_toxic\"]\n",
    "y_train = train_data[label_names].values"
   ]
  },
  {
   "cell_type": "code",
   "execution_count": 4,
   "metadata": {},
   "outputs": [
    {
     "name": "stderr",
     "output_type": "stream",
     "text": [
      "/opt/anaconda/envs/tfgpu-3.6.8/lib/python3.6/site-packages/ipykernel_launcher.py:1: SettingWithCopyWarning: \n",
      "A value is trying to be set on a copy of a slice from a DataFrame.\n",
      "Try using .loc[row_indexer,col_indexer] = value instead\n",
      "\n",
      "See the caveats in the documentation: https://pandas.pydata.org/pandas-docs/stable/user_guide/indexing.html#returning-a-view-versus-a-copy\n",
      "  \"\"\"Entry point for launching an IPython kernel.\n",
      "/opt/anaconda/envs/tfgpu-3.6.8/lib/python3.6/site-packages/seaborn/distributions.py:2551: FutureWarning: `distplot` is a deprecated function and will be removed in a future version. Please adapt your code to use either `displot` (a figure-level function with similar flexibility) or `histplot` (an axes-level function for histograms).\n",
      "  warnings.warn(msg, FutureWarning)\n"
     ]
    },
    {
     "data": {
      "image/png": "[encoded data removed]",
      "text/plain": [
       "<Figure size 432x288 with 1 Axes>"
      ]
     },
     "metadata": {},
     "output_type": "display_data"
    }
   ],
   "source": [
    "\n",
    "train_data['doc_len'] = train_data['message'].apply(lambda words: len(words.split(\" \")))\n",
    "max_seq_len = np.round(train_data['doc_len'].mean() + train_data['doc_len'].std()).astype(int)\n",
    "\n",
    "sns.distplot(train_data['doc_len'], hist=True, kde=True, color='b', label='doc len')\n",
    "plt.axvline(x=max_seq_len, color='k', linestyle='--', label='max len')\n",
    "plt.title('comment length'); plt.legend()\n",
    "plt.show()"
   ]
  },
  {
   "cell_type": "code",
   "execution_count": 5,
   "metadata": {},
   "outputs": [
    {
     "name": "stdout",
     "output_type": "stream",
     "text": [
      "                                                 message  is_toxic  doc_len\n",
      "803    Can you delete the whitespace here? Sorry to n...         0       20\n",
      "17226  We can get rid of this function with a simple ...         0       13\n",
      "7513      Have I mentioned that self hrefs are retarded?         0        8\n",
      "11102  cleanup should only be called if it actually w...         0       18\n",
      "11527  severity MEDIUM? Yeah they are considered brea...         1       14\n",
      "...                                                  ...       ...      ...\n",
      "11284  This is generated by tools/conf/generate_sampl...         0       16\n",
      "11964  This docstring needs to be moved under the cla...         0       12\n",
      "5390   This will be eventually removed by the migrati...         0       18\n",
      "860    Close. I don't think ProjectSpec is the right ...         0       82\n",
      "15795  allow_put should be False. (as well as segment...         0       10\n",
      "\n",
      "[15656 rows x 3 columns]\n"
     ]
    }
   ],
   "source": [
    "print(train_data)"
   ]
  },
  {
   "cell_type": "code",
   "execution_count": 6,
   "metadata": {},
   "outputs": [
    {
     "name": "stderr",
     "output_type": "stream",
     "text": [
      "  4%|▍         | 641/15656 [00:00<00:02, 6406.13it/s]"
     ]
    },
    {
     "name": "stdout",
     "output_type": "stream",
     "text": [
      "pre-processing train data...\n"
     ]
    },
    {
     "name": "stderr",
     "output_type": "stream",
     "text": [
      "100%|██████████| 15656/15656 [00:02<00:00, 6589.39it/s]\n",
      "100%|██████████| 3915/3915 [00:00<00:00, 6656.14it/s]\n"
     ]
    },
    {
     "name": "stdout",
     "output_type": "stream",
     "text": [
      "tokenizing input data...\n",
      "dictionary size:  16808\n"
     ]
    }
   ],
   "source": [
    "from sklearn.utils import shuffle \n",
    "\n",
    "raw_docs_train = train_data['message'].tolist()\n",
    "raw_docs_test = test_data['message'].tolist() \n",
    "num_classes = len(label_names)\n",
    "\n",
    "print(\"pre-processing train data...\")\n",
    "\n",
    "processed_docs_train = []\n",
    "for doc in tqdm(raw_docs_train):\n",
    "    tokens = word_tokenize(doc)\n",
    "    filtered = [word for word in tokens if word not in stop_words]\n",
    "    processed_docs_train.append(\" \".join(filtered))\n",
    "#end for\n",
    "\n",
    "processed_docs_test = []\n",
    "for doc in tqdm(raw_docs_test):\n",
    "    tokens = word_tokenize(doc)\n",
    "    filtered = [word for word in tokens if word not in stop_words]\n",
    "    processed_docs_test.append(\" \".join(filtered))\n",
    "#end for\n",
    "\n",
    "print(\"tokenizing input data...\")\n",
    "tokenizer = Tokenizer(num_words=MAX_NB_WORDS, lower=True, char_level=False)\n",
    "tokenizer.fit_on_texts(processed_docs_train + processed_docs_test)  #leaky\n",
    "word_seq_train = tokenizer.texts_to_sequences(processed_docs_train)\n",
    "word_seq_test = tokenizer.texts_to_sequences(processed_docs_test)\n",
    "word_index = tokenizer.word_index\n",
    "print(\"dictionary size: \", len(word_index))\n",
    "\n",
    "#pad sequences\n",
    "word_seq_train = sequence.pad_sequences(word_seq_train, maxlen=max_seq_len)\n",
    "word_seq_test = sequence.pad_sequences(word_seq_test, maxlen=max_seq_len)"
   ]
  },
  {
   "cell_type": "code",
   "execution_count": 7,
   "metadata": {},
   "outputs": [
    {
     "name": "stdout",
     "output_type": "stream",
     "text": [
      "[[   0    0    0 ... 1354 1409  337]\n",
      " [   0    0    0 ... 6776  567 2766]\n",
      " [   0    0    0 ...   10 6777 2216]\n",
      " ...\n",
      " [   0    0    0 ...  775   50   21]\n",
      " [  47    3 1814 ...  213 1257   31]\n",
      " [   0    0    0 ...   14  705  395]]\n"
     ]
    }
   ],
   "source": [
    "print(word_seq_train)"
   ]
  },
  {
   "cell_type": "code",
   "execution_count": 8,
   "metadata": {},
   "outputs": [],
   "source": [
    "#training params\n",
    "batch_size = 256 \n",
    "num_epochs = 40\n",
    "\n",
    "#model parameters\n",
    "num_filters = 64 \n",
    "embed_dim = 300 \n",
    "weight_decay = 1e-4\n",
    "nb_words=30000"
   ]
  },
  {
   "cell_type": "code",
   "execution_count": 9,
   "metadata": {},
   "outputs": [],
   "source": [
    "keras.backend.clear_session()"
   ]
  },
  {
   "cell_type": "code",
   "execution_count": 10,
   "metadata": {},
   "outputs": [
    {
     "name": "stdout",
     "output_type": "stream",
     "text": [
      "WARNING:tensorflow:From /home/amiangshu/.local/lib/python3.6/site-packages/tensorflow/python/keras/initializers.py:119: calling RandomUniform.__init__ (from tensorflow.python.ops.init_ops) with dtype is deprecated and will be removed in a future version.\n",
      "Instructions for updating:\n",
      "Call initializer instance with the dtype argument instead of passing it to the constructor\n",
      "WARNING:tensorflow:From /home/amiangshu/.local/lib/python3.6/site-packages/tensorflow/python/ops/init_ops.py:1251: calling VarianceScaling.__init__ (from tensorflow.python.ops.init_ops) with dtype is deprecated and will be removed in a future version.\n",
      "Instructions for updating:\n",
      "Call initializer instance with the dtype argument instead of passing it to the constructor\n",
      "WARNING:tensorflow:From /home/amiangshu/.local/lib/python3.6/site-packages/tensorflow/python/ops/init_ops.py:97: calling GlorotUniform.__init__ (from tensorflow.python.ops.init_ops) with dtype is deprecated and will be removed in a future version.\n",
      "Instructions for updating:\n",
      "Call initializer instance with the dtype argument instead of passing it to the constructor\n",
      "WARNING:tensorflow:From /home/amiangshu/.local/lib/python3.6/site-packages/tensorflow/python/ops/init_ops.py:97: calling Orthogonal.__init__ (from tensorflow.python.ops.init_ops) with dtype is deprecated and will be removed in a future version.\n",
      "Instructions for updating:\n",
      "Call initializer instance with the dtype argument instead of passing it to the constructor\n",
      "WARNING:tensorflow:From /home/amiangshu/.local/lib/python3.6/site-packages/tensorflow/python/ops/init_ops.py:97: calling Zeros.__init__ (from tensorflow.python.ops.init_ops) with dtype is deprecated and will be removed in a future version.\n",
      "Instructions for updating:\n",
      "Call initializer instance with the dtype argument instead of passing it to the constructor\n",
      "Model: \"sequential\"\n",
      "_________________________________________________________________\n",
      "Layer (type)                 Output Shape              Param #   \n",
      "=================================================================\n",
      "embedding (Embedding)        (None, 43, 300)           9000000   \n",
      "_________________________________________________________________\n",
      "bidirectional (Bidirectional (None, 64)                85248     \n",
      "_________________________________________________________________\n",
      "dense (Dense)                (None, 32)                2080      \n",
      "_________________________________________________________________\n",
      "dropout (Dropout)            (None, 32)                0         \n",
      "_________________________________________________________________\n",
      "dense_1 (Dense)              (None, 1)                 33        \n",
      "=================================================================\n",
      "Total params: 9,087,361\n",
      "Trainable params: 87,361\n",
      "Non-trainable params: 9,000,000\n",
      "_________________________________________________________________\n"
     ]
    }
   ],
   "source": [
    "from keras.layers import BatchNormalization\n",
    "import tensorflow as tf\n",
    "\n",
    "without_mod = tf.keras.Sequential()\n",
    "\n",
    "without_mod.add(Embedding(nb_words,embed_dim,input_length=max_seq_len,trainable=False))\n",
    "without_mod.add(Bidirectional(LSTM(32)))\n",
    "without_mod.add(Dense(32,activation='relu'))\n",
    "without_mod.add(Dropout(0.4))\n",
    "without_mod.add(Dense(1,activation='sigmoid'))\n",
    "without_mod.summary()"
   ]
  },
  {
   "cell_type": "code",
   "execution_count": 11,
   "metadata": {},
   "outputs": [
    {
     "name": "stdout",
     "output_type": "stream",
     "text": [
      "WARNING:tensorflow:From /home/amiangshu/.local/lib/python3.6/site-packages/tensorflow/python/ops/nn_impl.py:180: add_dispatch_support.<locals>.wrapper (from tensorflow.python.ops.array_ops) is deprecated and will be removed in a future version.\n",
      "Instructions for updating:\n",
      "Use tf.where in 2.0, which has the same broadcast rule as np.where\n"
     ]
    }
   ],
   "source": [
    "from keras.optimizers import RMSprop\n",
    "from keras.callbacks import ModelCheckpoint\n",
    "from tensorflow.keras.callbacks import EarlyStopping\n",
    "\n",
    "without_mod.compile(loss='binary_crossentropy', optimizer='adam', metrics=['accuracy'])"
   ]
  },
  {
   "cell_type": "code",
   "execution_count": 12,
   "metadata": {},
   "outputs": [
    {
     "name": "stdout",
     "output_type": "stream",
     "text": [
      "Train on 10959 samples, validate on 4697 samples\n",
      "Epoch 1/40\n",
      "10959/10959 [==============================] - 4s 358us/sample - loss: 0.5531 - acc: 0.7917 - val_loss: 0.4864 - val_acc: 0.8120\n",
      "Epoch 2/40\n",
      "10959/10959 [==============================] - 3s 282us/sample - loss: 0.4962 - acc: 0.8077 - val_loss: 0.4792 - val_acc: 0.8120\n",
      "Epoch 3/40\n",
      "10959/10959 [==============================] - 3s 280us/sample - loss: 0.4849 - acc: 0.8077 - val_loss: 0.4689 - val_acc: 0.8120\n",
      "Epoch 4/40\n",
      "10959/10959 [==============================] - 3s 299us/sample - loss: 0.4662 - acc: 0.8078 - val_loss: 0.4568 - val_acc: 0.8120\n",
      "Epoch 5/40\n",
      "10959/10959 [==============================] - 3s 282us/sample - loss: 0.4366 - acc: 0.8107 - val_loss: 0.4227 - val_acc: 0.8118\n",
      "Epoch 6/40\n",
      "10959/10959 [==============================] - 3s 283us/sample - loss: 0.4095 - acc: 0.8198 - val_loss: 0.3972 - val_acc: 0.8269\n",
      "Epoch 7/40\n",
      "10959/10959 [==============================] - 3s 289us/sample - loss: 0.3885 - acc: 0.8328 - val_loss: 0.3776 - val_acc: 0.8480\n",
      "Epoch 8/40\n",
      "10959/10959 [==============================] - 3s 290us/sample - loss: 0.3693 - acc: 0.8470 - val_loss: 0.3638 - val_acc: 0.8584\n",
      "Epoch 9/40\n",
      "10959/10959 [==============================] - 3s 299us/sample - loss: 0.3518 - acc: 0.8550 - val_loss: 0.3478 - val_acc: 0.8618\n",
      "Epoch 10/40\n",
      "10959/10959 [==============================] - 3s 300us/sample - loss: 0.3405 - acc: 0.8637 - val_loss: 0.3388 - val_acc: 0.8684\n",
      "Epoch 11/40\n",
      "10959/10959 [==============================] - 3s 313us/sample - loss: 0.3327 - acc: 0.8699 - val_loss: 0.3331 - val_acc: 0.8706\n",
      "Epoch 12/40\n",
      "10959/10959 [==============================] - 3s 299us/sample - loss: 0.3227 - acc: 0.8781 - val_loss: 0.3296 - val_acc: 0.8735\n",
      "Epoch 13/40\n",
      "10959/10959 [==============================] - 3s 304us/sample - loss: 0.3153 - acc: 0.8835 - val_loss: 0.3257 - val_acc: 0.8748\n",
      "Epoch 14/40\n",
      "10959/10959 [==============================] - 3s 298us/sample - loss: 0.3083 - acc: 0.8853 - val_loss: 0.3245 - val_acc: 0.8763\n",
      "Epoch 15/40\n",
      "10959/10959 [==============================] - 3s 288us/sample - loss: 0.3032 - acc: 0.8866 - val_loss: 0.3209 - val_acc: 0.8808\n",
      "Epoch 16/40\n",
      "10959/10959 [==============================] - 3s 287us/sample - loss: 0.3000 - acc: 0.8893 - val_loss: 0.3166 - val_acc: 0.8814\n",
      "Epoch 17/40\n",
      "10959/10959 [==============================] - 3s 292us/sample - loss: 0.2917 - acc: 0.8924 - val_loss: 0.3191 - val_acc: 0.8833\n",
      "Epoch 18/40\n",
      "10959/10959 [==============================] - 3s 287us/sample - loss: 0.2886 - acc: 0.8928 - val_loss: 0.3220 - val_acc: 0.8827\n",
      "Epoch 19/40\n",
      "10959/10959 [==============================] - 3s 287us/sample - loss: 0.2928 - acc: 0.8921 - val_loss: 0.3071 - val_acc: 0.8884\n",
      "Epoch 20/40\n",
      "10959/10959 [==============================] - 3s 289us/sample - loss: 0.2873 - acc: 0.8942 - val_loss: 0.3032 - val_acc: 0.8878\n",
      "Epoch 21/40\n",
      "10959/10959 [==============================] - 3s 290us/sample - loss: 0.2768 - acc: 0.8985 - val_loss: 0.3025 - val_acc: 0.8889\n",
      "Epoch 22/40\n",
      "10959/10959 [==============================] - 3s 291us/sample - loss: 0.2727 - acc: 0.9005 - val_loss: 0.2985 - val_acc: 0.8895\n",
      "Epoch 23/40\n",
      "10959/10959 [==============================] - 3s 288us/sample - loss: 0.2649 - acc: 0.9027 - val_loss: 0.2988 - val_acc: 0.8912\n",
      "Epoch 24/40\n",
      "10959/10959 [==============================] - 3s 289us/sample - loss: 0.2621 - acc: 0.9050 - val_loss: 0.2968 - val_acc: 0.8908\n",
      "Epoch 25/40\n",
      "10959/10959 [==============================] - 3s 289us/sample - loss: 0.2561 - acc: 0.9079 - val_loss: 0.2986 - val_acc: 0.8914\n",
      "Epoch 26/40\n",
      "10959/10959 [==============================] - 3s 290us/sample - loss: 0.2508 - acc: 0.9100 - val_loss: 0.2970 - val_acc: 0.8923\n",
      "Epoch 27/40\n",
      "10959/10959 [==============================] - 3s 290us/sample - loss: 0.2481 - acc: 0.9111 - val_loss: 0.2944 - val_acc: 0.8929\n",
      "Epoch 28/40\n",
      "10959/10959 [==============================] - 3s 288us/sample - loss: 0.2400 - acc: 0.9125 - val_loss: 0.2961 - val_acc: 0.8908\n",
      "Epoch 29/40\n",
      "10959/10959 [==============================] - 3s 291us/sample - loss: 0.2353 - acc: 0.9164 - val_loss: 0.2994 - val_acc: 0.8927\n",
      "Epoch 30/40\n",
      "10959/10959 [==============================] - 3s 291us/sample - loss: 0.2309 - acc: 0.9178 - val_loss: 0.3036 - val_acc: 0.8901\n"
     ]
    }
   ],
   "source": [
    "es_callback = EarlyStopping(monitor='val_loss', patience=3)\n",
    "\n",
    "history_withoutembed = without_mod.fit(word_seq_train, y_train, batch_size=256,\n",
    "          epochs=num_epochs, validation_split=0.3, callbacks=[es_callback], shuffle=False)"
   ]
  },
  {
   "cell_type": "code",
   "execution_count": 13,
   "metadata": {},
   "outputs": [],
   "source": [
    "predictions = without_mod.predict_classes(word_seq_test)\n",
    "#sample=pd.read_csv('SEtest_dat.csv')\n",
    "#sample['predictions']= (predictions>0.5).astype(int)"
   ]
  },
  {
   "cell_type": "code",
   "execution_count": 15,
   "metadata": {},
   "outputs": [
    {
     "name": "stdout",
     "output_type": "stream",
     "text": [
      "[[0]\n",
      " [0]\n",
      " [0]\n",
      " ...\n",
      " [1]\n",
      " [0]\n",
      " [0]]\n"
     ]
    }
   ],
   "source": [
    "y_test = test_data[label_names].values\n",
    "print(y_test)"
   ]
  },
  {
   "cell_type": "code",
   "execution_count": 18,
   "metadata": {},
   "outputs": [
    {
     "name": "stdout",
     "output_type": "stream",
     "text": [
      "Accuracy Without GloVe :\n",
      "0.8883780332056194\n",
      "              precision    recall  f1-score   support\n",
      "\n",
      "           0       0.90      0.97      0.93      3153\n",
      "           1       0.81      0.55      0.66       762\n",
      "\n",
      "    accuracy                           0.89      3915\n",
      "   macro avg       0.86      0.76      0.80      3915\n",
      "weighted avg       0.88      0.89      0.88      3915\n",
      "\n"
     ]
    }
   ],
   "source": [
    "import sklearn\n",
    "print(\"Accuracy Without GloVe :\")\n",
    "print(sklearn.metrics.accuracy_score(y_test, predictions))\n",
    "\n",
    "from sklearn import metrics\n",
    "print(metrics.classification_report(y_test, predictions))"
   ]
  },
  {
   "cell_type": "code",
   "execution_count": 19,
   "metadata": {},
   "outputs": [
    {
     "data": {
      "image/png": "[encoded data removed]",
      "text/plain": [
       "<Figure size 432x288 with 1 Axes>"
      ]
     },
     "metadata": {},
     "output_type": "display_data"
    }
   ],
   "source": [
    "#generate plots\n",
    "plt.figure()\n",
    "plt.plot(history_withoutembed.history['loss'], lw=2.0, color='b', label='train')\n",
    "plt.plot(history_withoutembed.history['val_loss'], lw=2.0, color='r', label='val')\n",
    "plt.title('LSTM SE toxic without embed')\n",
    "plt.xlabel('Epochs')\n",
    "plt.ylabel('Cross-Entropy Loss')\n",
    "plt.legend(loc='upper right')\n",
    "plt.show()"
   ]
  },
  {
   "cell_type": "code",
   "execution_count": 20,
   "metadata": {},
   "outputs": [
    {
     "data": {
      "image/png": "[encoded data removed]",
      "text/plain": [
       "<Figure size 432x288 with 1 Axes>"
      ]
     },
     "metadata": {},
     "output_type": "display_data"
    }
   ],
   "source": [
    "plt.figure()\n",
    "plt.plot(history_withoutembed.history['acc'], lw=2.0, color='b', label='train')\n",
    "plt.plot(history_withoutembed.history['val_acc'], lw=2.0, color='r', label='val')\n",
    "plt.title('LSTM  toxic without embed acc')\n",
    "plt.xlabel('Epochs')\n",
    "plt.ylabel('Accuracy')\n",
    "plt.legend(loc='upper left')\n",
    "plt.show()"
   ]
  },
  {
   "cell_type": "code",
   "execution_count": 21,
   "metadata": {},
   "outputs": [],
   "source": [
    "keras.backend.clear_session()"
   ]
  },
  {
   "cell_type": "code",
   "execution_count": 23,
   "metadata": {},
   "outputs": [],
   "source": [
    "#Embedding Started"
   ]
  },
  {
   "cell_type": "code",
   "execution_count": 25,
   "metadata": {},
   "outputs": [
    {
     "name": "stderr",
     "output_type": "stream",
     "text": [
      "1282it [00:00, 12816.38it/s]"
     ]
    },
    {
     "name": "stdout",
     "output_type": "stream",
     "text": [
      "loading word embeddings...\n"
     ]
    },
    {
     "name": "stderr",
     "output_type": "stream",
     "text": [
      "2000005it [01:51, 17990.66it/s]"
     ]
    },
    {
     "name": "stdout",
     "output_type": "stream",
     "text": [
      "found 1999997 word vectors\n"
     ]
    },
    {
     "name": "stderr",
     "output_type": "stream",
     "text": [
      "\n"
     ]
    }
   ],
   "source": [
    "print('loading word embeddings...')\n",
    "\n",
    "embeddings_index = {}\n",
    "f = codecs.open('../crawl-300d-2M.vec', encoding='utf-8')\n",
    "\n",
    "for line in tqdm(f):\n",
    "    values = line.rstrip().rsplit(' ')\n",
    "    word = values[0]\n",
    "    coefs = np.asarray(values[1:], dtype='float32')\n",
    "    embeddings_index[word] = coefs\n",
    "f.close()\n",
    "\n",
    "print('found %s word vectors' % len(embeddings_index))"
   ]
  },
  {
   "cell_type": "code",
   "execution_count": 26,
   "metadata": {},
   "outputs": [
    {
     "name": "stdout",
     "output_type": "stream",
     "text": [
      "preparing embedding matrix...\n",
      "number of null word embeddings: 5258\n"
     ]
    }
   ],
   "source": [
    "#embedding matrix\n",
    "\n",
    "print('preparing embedding matrix...')\n",
    "\n",
    "words_not_found = []\n",
    "nb_words = min(MAX_NB_WORDS, len(word_index)+1)\n",
    "embedding_matrix = np.zeros((nb_words, embed_dim))\n",
    "\n",
    "for word, i in word_index.items():\n",
    "    if i >= nb_words:\n",
    "        continue\n",
    "    embedding_vector = embeddings_index.get(word)\n",
    "    if (embedding_vector is not None) and len(embedding_vector) > 0:\n",
    "        # words not found in embedding index will be all-zeros.\n",
    "        embedding_matrix[i] = embedding_vector\n",
    "    else:\n",
    "        words_not_found.append(word)\n",
    "print('number of null word embeddings: %d' % np.sum(np.sum(embedding_matrix, axis=1) == 0))"
   ]
  },
  {
   "cell_type": "code",
   "execution_count": 27,
   "metadata": {},
   "outputs": [
    {
     "name": "stdout",
     "output_type": "stream",
     "text": [
      "sample words not found:  ['listenforchangestobuildfiles' '43ec' 'pmanager' 'denorm' 'appendrestore'\n",
      " 'magicmock' 'netloc' 'endtracking' \"rmw'ing\" 'cliprrect']\n"
     ]
    }
   ],
   "source": [
    "print(\"sample words not found: \", np.random.choice(words_not_found, 10))\n"
   ]
  },
  {
   "cell_type": "code",
   "execution_count": 28,
   "metadata": {},
   "outputs": [
    {
     "name": "stdout",
     "output_type": "stream",
     "text": [
      "Model: \"sequential\"\n",
      "_________________________________________________________________\n",
      "Layer (type)                 Output Shape              Param #   \n",
      "=================================================================\n",
      "embedding (Embedding)        (None, 43, 300)           5042700   \n",
      "_________________________________________________________________\n",
      "bidirectional (Bidirectional (None, 64)                85248     \n",
      "_________________________________________________________________\n",
      "dense (Dense)                (None, 32)                2080      \n",
      "_________________________________________________________________\n",
      "dropout (Dropout)            (None, 32)                0         \n",
      "_________________________________________________________________\n",
      "dense_1 (Dense)              (None, 1)                 33        \n",
      "=================================================================\n",
      "Total params: 5,130,061\n",
      "Trainable params: 87,361\n",
      "Non-trainable params: 5,042,700\n",
      "_________________________________________________________________\n"
     ]
    }
   ],
   "source": [
    "from keras.layers import BatchNormalization\n",
    "import tensorflow as tf\n",
    "\n",
    "model = tf.keras.Sequential()\n",
    "\n",
    "model.add(Embedding(nb_words,embed_dim,input_length=max_seq_len, weights=[embedding_matrix],trainable=False))\n",
    "model.add(Bidirectional(LSTM(32)))\n",
    "model.add(Dense(32,activation='relu'))\n",
    "model.add(Dropout(0.4))\n",
    "model.add(Dense(1,activation='sigmoid'))\n",
    "model.summary()"
   ]
  },
  {
   "cell_type": "code",
   "execution_count": 29,
   "metadata": {},
   "outputs": [
    {
     "name": "stdout",
     "output_type": "stream",
     "text": [
      "Train on 10959 samples, validate on 4697 samples\n",
      "Epoch 1/40\n",
      "10959/10959 [==============================] - 4s 392us/sample - loss: 0.5487 - acc: 0.7723 - val_loss: 0.4347 - val_acc: 0.8126\n",
      "Epoch 2/40\n",
      "10959/10959 [==============================] - 3s 289us/sample - loss: 0.3521 - acc: 0.8425 - val_loss: 0.2720 - val_acc: 0.8795\n",
      "Epoch 3/40\n",
      "10959/10959 [==============================] - 3s 284us/sample - loss: 0.2542 - acc: 0.8970 - val_loss: 0.2282 - val_acc: 0.9108\n",
      "Epoch 4/40\n",
      "10959/10959 [==============================] - 3s 286us/sample - loss: 0.2092 - acc: 0.9231 - val_loss: 0.2128 - val_acc: 0.9221\n",
      "Epoch 5/40\n",
      "10959/10959 [==============================] - 3s 297us/sample - loss: 0.1830 - acc: 0.9359 - val_loss: 0.2081 - val_acc: 0.9242\n",
      "Epoch 6/40\n",
      "10959/10959 [==============================] - 3s 286us/sample - loss: 0.1686 - acc: 0.9398 - val_loss: 0.1987 - val_acc: 0.9274\n",
      "Epoch 7/40\n",
      "10959/10959 [==============================] - 3s 288us/sample - loss: 0.1557 - acc: 0.9434 - val_loss: 0.1914 - val_acc: 0.9308\n",
      "Epoch 8/40\n",
      "10959/10959 [==============================] - 3s 286us/sample - loss: 0.1369 - acc: 0.9506 - val_loss: 0.1911 - val_acc: 0.9319\n",
      "Epoch 9/40\n",
      "10959/10959 [==============================] - 3s 294us/sample - loss: 0.1247 - acc: 0.9543 - val_loss: 0.1918 - val_acc: 0.9319\n",
      "Epoch 10/40\n",
      "10959/10959 [==============================] - 3s 286us/sample - loss: 0.1132 - acc: 0.9564 - val_loss: 0.1908 - val_acc: 0.9361\n",
      "Epoch 11/40\n",
      "10959/10959 [==============================] - 3s 290us/sample - loss: 0.1109 - acc: 0.9582 - val_loss: 0.2114 - val_acc: 0.9353\n",
      "Epoch 12/40\n",
      "10959/10959 [==============================] - 3s 290us/sample - loss: 0.1007 - acc: 0.9623 - val_loss: 0.2257 - val_acc: 0.9321\n",
      "Epoch 13/40\n",
      "10959/10959 [==============================] - 3s 288us/sample - loss: 0.0958 - acc: 0.9634 - val_loss: 0.2108 - val_acc: 0.9321\n"
     ]
    }
   ],
   "source": [
    "from keras.optimizers import RMSprop\n",
    "from keras.callbacks import ModelCheckpoint\n",
    "from tensorflow.keras.callbacks import EarlyStopping\n",
    "\n",
    "model.compile(loss='binary_crossentropy', optimizer='adam', metrics=['accuracy'])\n",
    "\n",
    "es_callback = EarlyStopping(monitor='val_loss', patience=3)\n",
    "\n",
    "history = model.fit(word_seq_train, y_train, batch_size=256,\n",
    "          epochs=num_epochs, validation_split=0.3, callbacks=[es_callback], shuffle=False)"
   ]
  },
  {
   "cell_type": "code",
   "execution_count": 30,
   "metadata": {},
   "outputs": [
    {
     "data": {
      "image/png": "[encoded data removed]",
      "text/plain": [
       "<Figure size 432x288 with 1 Axes>"
      ]
     },
     "metadata": {},
     "output_type": "display_data"
    }
   ],
   "source": [
    "#generate plots\n",
    "plt.figure()\n",
    "plt.plot(history.history['loss'], lw=2.0, color='b', label='train')\n",
    "plt.plot(history.history['val_loss'], lw=2.0, color='r', label='val')\n",
    "plt.title('LSTM SE toxic with embed')\n",
    "plt.xlabel('Epochs')\n",
    "plt.ylabel('Cross-Entropy Loss')\n",
    "plt.legend(loc='upper right')\n",
    "plt.show()"
   ]
  },
  {
   "cell_type": "code",
   "execution_count": 31,
   "metadata": {},
   "outputs": [
    {
     "data": {
      "image/png": "[encoded data removed]",
      "text/plain": [
       "<Figure size 432x288 with 1 Axes>"
      ]
     },
     "metadata": {},
     "output_type": "display_data"
    }
   ],
   "source": [
    "plt.figure()\n",
    "plt.plot(history.history['acc'], lw=2.0, color='b', label='train')\n",
    "plt.plot(history.history['val_acc'], lw=2.0, color='r', label='val')\n",
    "plt.title('LSTM  toxic with embed acc')\n",
    "plt.xlabel('Epochs')\n",
    "plt.ylabel('Accuracy')\n",
    "plt.legend(loc='upper left')\n",
    "plt.show()"
   ]
  },
  {
   "cell_type": "code",
   "execution_count": 32,
   "metadata": {},
   "outputs": [
    {
     "name": "stdout",
     "output_type": "stream",
     "text": [
      "[[0]\n",
      " [0]\n",
      " [0]\n",
      " ...\n",
      " [1]\n",
      " [0]\n",
      " [0]]\n"
     ]
    }
   ],
   "source": [
    "predictions_withembed = model.predict_classes(word_seq_test)\n",
    "\n",
    "y_test_withembed = test_data[label_names].values\n",
    "print(y_test_withembed)"
   ]
  },
  {
   "cell_type": "code",
   "execution_count": 34,
   "metadata": {},
   "outputs": [
    {
     "name": "stdout",
     "output_type": "stream",
     "text": [
      "Accuracy With fastext :\n",
      "0.930779054916986\n",
      "              precision    recall  f1-score   support\n",
      "\n",
      "           0       0.94      0.98      0.96      3153\n",
      "           1       0.89      0.73      0.80       762\n",
      "\n",
      "    accuracy                           0.93      3915\n",
      "   macro avg       0.91      0.86      0.88      3915\n",
      "weighted avg       0.93      0.93      0.93      3915\n",
      "\n"
     ]
    }
   ],
   "source": [
    "import sklearn\n",
    "print(\"Accuracy With fastext :\")\n",
    "print(sklearn.metrics.accuracy_score(y_test, predictions_withembed))\n",
    "\n",
    "from sklearn import metrics\n",
    "print(metrics.classification_report(y_test, predictions_withembed))"
   ]
  },
  {
   "cell_type": "code",
   "execution_count": 35,
   "metadata": {},
   "outputs": [],
   "source": [
    "keras.backend.clear_session()"
   ]
  },
  {
   "cell_type": "code",
   "execution_count": 36,
   "metadata": {},
   "outputs": [
    {
     "name": "stderr",
     "output_type": "stream",
     "text": [
      "1107it [00:00, 11065.05it/s]"
     ]
    },
    {
     "name": "stdout",
     "output_type": "stream",
     "text": [
      "loading word embeddings...\n"
     ]
    },
    {
     "name": "stderr",
     "output_type": "stream",
     "text": [
      "2196018it [02:23, 15348.75it/s]"
     ]
    },
    {
     "name": "stdout",
     "output_type": "stream",
     "text": [
      "found 2196016 word vectors\n"
     ]
    },
    {
     "name": "stderr",
     "output_type": "stream",
     "text": [
      "\n"
     ]
    }
   ],
   "source": [
    "print('loading word embeddings...')\n",
    "\n",
    "embeddings_index = {}\n",
    "f = codecs.open('../glove.840B.300d.txt', encoding='utf-8')\n",
    "\n",
    "for line in tqdm(f):\n",
    "    values = line.rstrip().rsplit(' ')\n",
    "    word = values[0]\n",
    "    coefs = np.asarray(values[1:], dtype='float32')\n",
    "    embeddings_index[word] = coefs\n",
    "f.close()\n",
    "\n",
    "print('found %s word vectors' % len(embeddings_index))\n"
   ]
  },
  {
   "cell_type": "code",
   "execution_count": 37,
   "metadata": {},
   "outputs": [
    {
     "name": "stdout",
     "output_type": "stream",
     "text": [
      "preparing embedding matrix...\n",
      "number of null word embeddings: 5317\n"
     ]
    }
   ],
   "source": [
    "#embedding matrix\n",
    "\n",
    "print('preparing embedding matrix...')\n",
    "\n",
    "words_not_found = []\n",
    "nb_words = min(MAX_NB_WORDS, len(word_index)+1)\n",
    "embedding_matrix = np.zeros((nb_words, embed_dim))\n",
    "\n",
    "for word, i in word_index.items():\n",
    "    if i >= nb_words:\n",
    "        continue\n",
    "    embedding_vector = embeddings_index.get(word)\n",
    "    if (embedding_vector is not None) and len(embedding_vector) > 0:\n",
    "        # words not found in embedding index will be all-zeros.\n",
    "        embedding_matrix[i] = embedding_vector\n",
    "    else:\n",
    "        words_not_found.append(word)\n",
    "print('number of null word embeddings: %d' % np.sum(np.sum(embedding_matrix, axis=1) == 0))"
   ]
  },
  {
   "cell_type": "code",
   "execution_count": 38,
   "metadata": {},
   "outputs": [
    {
     "name": "stdout",
     "output_type": "stream",
     "text": [
      "Model: \"sequential\"\n",
      "_________________________________________________________________\n",
      "Layer (type)                 Output Shape              Param #   \n",
      "=================================================================\n",
      "embedding (Embedding)        (None, 43, 300)           5042700   \n",
      "_________________________________________________________________\n",
      "bidirectional (Bidirectional (None, 64)                85248     \n",
      "_________________________________________________________________\n",
      "dense (Dense)                (None, 32)                2080      \n",
      "_________________________________________________________________\n",
      "dropout (Dropout)            (None, 32)                0         \n",
      "_________________________________________________________________\n",
      "dense_1 (Dense)              (None, 1)                 33        \n",
      "=================================================================\n",
      "Total params: 5,130,061\n",
      "Trainable params: 87,361\n",
      "Non-trainable params: 5,042,700\n",
      "_________________________________________________________________\n"
     ]
    }
   ],
   "source": [
    "from keras.layers import BatchNormalization\n",
    "import tensorflow as tf\n",
    "\n",
    "model_glove = tf.keras.Sequential()\n",
    "\n",
    "model_glove.add(Embedding(nb_words,embed_dim,input_length=max_seq_len, weights=[embedding_matrix],trainable=False))\n",
    "model_glove.add(Bidirectional(LSTM(32)))\n",
    "model_glove.add(Dense(32,activation='relu'))\n",
    "model_glove.add(Dropout(0.4))\n",
    "model_glove.add(Dense(1,activation='sigmoid'))\n",
    "model_glove.summary()"
   ]
  },
  {
   "cell_type": "code",
   "execution_count": 39,
   "metadata": {},
   "outputs": [],
   "source": [
    "from keras.optimizers import RMSprop\n",
    "from keras.callbacks import ModelCheckpoint\n",
    "from tensorflow.keras.callbacks import EarlyStopping\n",
    "\n",
    "model_glove.compile(loss='binary_crossentropy', optimizer='adam', metrics=['accuracy'])"
   ]
  },
  {
   "cell_type": "code",
   "execution_count": 40,
   "metadata": {},
   "outputs": [
    {
     "name": "stdout",
     "output_type": "stream",
     "text": [
      "Train on 10959 samples, validate on 4697 samples\n",
      "Epoch 1/40\n",
      "10959/10959 [==============================] - 5s 428us/sample - loss: 0.4980 - acc: 0.7958 - val_loss: 0.4112 - val_acc: 0.8203\n",
      "Epoch 2/40\n",
      "10959/10959 [==============================] - 3s 280us/sample - loss: 0.3601 - acc: 0.8345 - val_loss: 0.2946 - val_acc: 0.8620\n",
      "Epoch 3/40\n",
      "10959/10959 [==============================] - 3s 279us/sample - loss: 0.2676 - acc: 0.8806 - val_loss: 0.2358 - val_acc: 0.9012\n",
      "Epoch 4/40\n",
      "10959/10959 [==============================] - 3s 295us/sample - loss: 0.2141 - acc: 0.9110 - val_loss: 0.2096 - val_acc: 0.9146\n",
      "Epoch 5/40\n",
      "10959/10959 [==============================] - 3s 296us/sample - loss: 0.1814 - acc: 0.9286 - val_loss: 0.2020 - val_acc: 0.9231\n",
      "Epoch 6/40\n",
      "10959/10959 [==============================] - 3s 291us/sample - loss: 0.1651 - acc: 0.9389 - val_loss: 0.1977 - val_acc: 0.9278\n",
      "Epoch 7/40\n",
      "10959/10959 [==============================] - 3s 293us/sample - loss: 0.1470 - acc: 0.9435 - val_loss: 0.1929 - val_acc: 0.9317\n",
      "Epoch 8/40\n",
      "10959/10959 [==============================] - 3s 291us/sample - loss: 0.1523 - acc: 0.9411 - val_loss: 0.1790 - val_acc: 0.9314\n",
      "Epoch 9/40\n",
      "10959/10959 [==============================] - 3s 279us/sample - loss: 0.1261 - acc: 0.9521 - val_loss: 0.1807 - val_acc: 0.9346\n",
      "Epoch 10/40\n",
      "10959/10959 [==============================] - 3s 300us/sample - loss: 0.1106 - acc: 0.9584 - val_loss: 0.1816 - val_acc: 0.9340\n",
      "Epoch 11/40\n",
      "10959/10959 [==============================] - 3s 294us/sample - loss: 0.1050 - acc: 0.9617 - val_loss: 0.2250 - val_acc: 0.9340\n"
     ]
    }
   ],
   "source": [
    "es_callback = EarlyStopping(monitor='val_loss', patience=3)\n",
    "\n",
    "history_glove = model_glove.fit(word_seq_train, y_train, batch_size=256,\n",
    "          epochs=num_epochs, validation_split=0.3, callbacks=[es_callback], shuffle=False)"
   ]
  },
  {
   "cell_type": "code",
   "execution_count": 41,
   "metadata": {},
   "outputs": [
    {
     "data": {
      "image/png": "[encoded data removed]",
      "text/plain": [
       "<Figure size 432x288 with 1 Axes>"
      ]
     },
     "metadata": {},
     "output_type": "display_data"
    }
   ],
   "source": [
    "#generate plots\n",
    "plt.figure()\n",
    "plt.plot(history_glove.history['loss'], lw=2.0, color='b', label='train')\n",
    "plt.plot(history_glove.history['val_loss'], lw=2.0, color='r', label='val')\n",
    "plt.title('LSTM sentiment with glove')\n",
    "plt.xlabel('Epochs')\n",
    "plt.ylabel('Cross-Entropy Loss')\n",
    "plt.legend(loc='upper right')\n",
    "plt.show()"
   ]
  },
  {
   "cell_type": "code",
   "execution_count": 42,
   "metadata": {},
   "outputs": [
    {
     "data": {
      "image/png": "[encoded data removed]",
      "text/plain": [
       "<Figure size 432x288 with 1 Axes>"
      ]
     },
     "metadata": {},
     "output_type": "display_data"
    }
   ],
   "source": [
    "plt.figure()\n",
    "plt.plot(history_glove.history['acc'], lw=2.0, color='b', label='train')\n",
    "plt.plot(history_glove.history['val_acc'], lw=2.0, color='r', label='val')\n",
    "plt.title('LSTM sentiment with gloVe')\n",
    "plt.xlabel('Epochs')\n",
    "plt.ylabel('Accuracy')\n",
    "plt.legend(loc='upper left')\n",
    "plt.show()"
   ]
  },
  {
   "cell_type": "code",
   "execution_count": 44,
   "metadata": {},
   "outputs": [],
   "source": [
    "predictions_withembed_GloVe = model_glove.predict_classes(word_seq_test)\n",
    "\n",
    "y_test  = test_data[label_names].values\n",
    "#print(y_test_withembed)"
   ]
  },
  {
   "cell_type": "code",
   "execution_count": 45,
   "metadata": {},
   "outputs": [
    {
     "name": "stdout",
     "output_type": "stream",
     "text": [
      "Accuracy With fastext :\n",
      "0.9323116219667944\n",
      "              precision    recall  f1-score   support\n",
      "\n",
      "           0       0.94      0.98      0.96      3153\n",
      "           1       0.91      0.72      0.81       762\n",
      "\n",
      "    accuracy                           0.93      3915\n",
      "   macro avg       0.92      0.85      0.88      3915\n",
      "weighted avg       0.93      0.93      0.93      3915\n",
      "\n"
     ]
    }
   ],
   "source": [
    "import sklearn\n",
    "print(\"Accuracy With fastext :\")\n",
    "print(sklearn.metrics.accuracy_score(y_test, predictions_withembed_GloVe))\n",
    "\n",
    "from sklearn import metrics\n",
    "print(metrics.classification_report(y_test, predictions_withembed_GloVe))"
   ]
  },
  {
   "cell_type": "code",
   "execution_count": null,
   "metadata": {},
   "outputs": [],
   "source": []
  }
 ],
 "metadata": {
  "kernelspec": {
   "display_name": "Python 3",
   "language": "python",
   "name": "python3"
  },
  "language_info": {
   "codemirror_mode": {
    "name": "ipython",
    "version": 3
   },
   "file_extension": ".py",
   "mimetype": "text/x-python",
   "name": "python",
   "nbconvert_exporter": "python",
   "pygments_lexer": "ipython3",
   "version": "3.6.8"
  }
 },
 "nbformat": 4,
 "nbformat_minor": 4
}
