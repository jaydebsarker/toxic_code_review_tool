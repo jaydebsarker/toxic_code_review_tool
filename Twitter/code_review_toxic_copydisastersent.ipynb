{
 "cells": [
  {
   "cell_type": "code",
   "execution_count": 1,
   "metadata": {},
   "outputs": [
    {
     "name": "stderr",
     "output_type": "stream",
     "text": [
      "[nltk_data] Downloading package stopwords to\n",
      "[nltk_data]     /home/amiangshu/nltk_data...\n",
      "[nltk_data]   Package stopwords is already up-to-date!\n",
      "[nltk_data] Downloading package punkt to /home/amiangshu/nltk_data...\n",
      "[nltk_data]   Package punkt is already up-to-date!\n",
      "Using TensorFlow backend.\n",
      "/home/amiangshu/.local/lib/python3.6/site-packages/tensorflow/python/framework/dtypes.py:516: FutureWarning: Passing (type, 1) or '1type' as a synonym of type is deprecated; in a future version of numpy, it will be understood as (type, (1,)) / '(1,)type'.\n",
      "  _np_qint8 = np.dtype([(\"qint8\", np.int8, 1)])\n",
      "/home/amiangshu/.local/lib/python3.6/site-packages/tensorflow/python/framework/dtypes.py:517: FutureWarning: Passing (type, 1) or '1type' as a synonym of type is deprecated; in a future version of numpy, it will be understood as (type, (1,)) / '(1,)type'.\n",
      "  _np_quint8 = np.dtype([(\"quint8\", np.uint8, 1)])\n",
      "/home/amiangshu/.local/lib/python3.6/site-packages/tensorflow/python/framework/dtypes.py:518: FutureWarning: Passing (type, 1) or '1type' as a synonym of type is deprecated; in a future version of numpy, it will be understood as (type, (1,)) / '(1,)type'.\n",
      "  _np_qint16 = np.dtype([(\"qint16\", np.int16, 1)])\n",
      "/home/amiangshu/.local/lib/python3.6/site-packages/tensorflow/python/framework/dtypes.py:519: FutureWarning: Passing (type, 1) or '1type' as a synonym of type is deprecated; in a future version of numpy, it will be understood as (type, (1,)) / '(1,)type'.\n",
      "  _np_quint16 = np.dtype([(\"quint16\", np.uint16, 1)])\n",
      "/home/amiangshu/.local/lib/python3.6/site-packages/tensorflow/python/framework/dtypes.py:520: FutureWarning: Passing (type, 1) or '1type' as a synonym of type is deprecated; in a future version of numpy, it will be understood as (type, (1,)) / '(1,)type'.\n",
      "  _np_qint32 = np.dtype([(\"qint32\", np.int32, 1)])\n",
      "/home/amiangshu/.local/lib/python3.6/site-packages/tensorflow/python/framework/dtypes.py:525: FutureWarning: Passing (type, 1) or '1type' as a synonym of type is deprecated; in a future version of numpy, it will be understood as (type, (1,)) / '(1,)type'.\n",
      "  np_resource = np.dtype([(\"resource\", np.ubyte, 1)])\n",
      "/home/amiangshu/.local/lib/python3.6/site-packages/tensorboard/compat/tensorflow_stub/dtypes.py:541: FutureWarning: Passing (type, 1) or '1type' as a synonym of type is deprecated; in a future version of numpy, it will be understood as (type, (1,)) / '(1,)type'.\n",
      "  _np_qint8 = np.dtype([(\"qint8\", np.int8, 1)])\n",
      "/home/amiangshu/.local/lib/python3.6/site-packages/tensorboard/compat/tensorflow_stub/dtypes.py:542: FutureWarning: Passing (type, 1) or '1type' as a synonym of type is deprecated; in a future version of numpy, it will be understood as (type, (1,)) / '(1,)type'.\n",
      "  _np_quint8 = np.dtype([(\"quint8\", np.uint8, 1)])\n",
      "/home/amiangshu/.local/lib/python3.6/site-packages/tensorboard/compat/tensorflow_stub/dtypes.py:543: FutureWarning: Passing (type, 1) or '1type' as a synonym of type is deprecated; in a future version of numpy, it will be understood as (type, (1,)) / '(1,)type'.\n",
      "  _np_qint16 = np.dtype([(\"qint16\", np.int16, 1)])\n",
      "/home/amiangshu/.local/lib/python3.6/site-packages/tensorboard/compat/tensorflow_stub/dtypes.py:544: FutureWarning: Passing (type, 1) or '1type' as a synonym of type is deprecated; in a future version of numpy, it will be understood as (type, (1,)) / '(1,)type'.\n",
      "  _np_quint16 = np.dtype([(\"quint16\", np.uint16, 1)])\n",
      "/home/amiangshu/.local/lib/python3.6/site-packages/tensorboard/compat/tensorflow_stub/dtypes.py:545: FutureWarning: Passing (type, 1) or '1type' as a synonym of type is deprecated; in a future version of numpy, it will be understood as (type, (1,)) / '(1,)type'.\n",
      "  _np_qint32 = np.dtype([(\"qint32\", np.int32, 1)])\n",
      "/home/amiangshu/.local/lib/python3.6/site-packages/tensorboard/compat/tensorflow_stub/dtypes.py:550: FutureWarning: Passing (type, 1) or '1type' as a synonym of type is deprecated; in a future version of numpy, it will be understood as (type, (1,)) / '(1,)type'.\n",
      "  np_resource = np.dtype([(\"resource\", np.ubyte, 1)])\n"
     ]
    }
   ],
   "source": [
    "#For Pre-Processing\n",
    "from tqdm import tqdm\n",
    "import nltk\n",
    "from nltk.corpus import stopwords\n",
    "nltk.download('stopwords')\n",
    "nltk.download('punkt')\n",
    "from nltk.tokenize import RegexpTokenizer \n",
    "from nltk.tokenize import word_tokenize\n",
    "import os, re, csv, math, codecs\n",
    "\n",
    "\n",
    "# For Training\n",
    "import keras\n",
    "from keras import optimizers\n",
    "from keras import backend as K\n",
    "from keras import regularizers\n",
    "from keras.models import Sequential\n",
    "from keras.layers import Dense, Activation, Dropout, Flatten\n",
    "from keras.layers import Embedding, Conv1D, MaxPooling1D, GlobalMaxPooling1D\n",
    "from tensorflow.keras.layers import Embedding, LSTM, Dense, Dropout, Bidirectional\n",
    "from keras.utils import plot_model\n",
    "from keras.preprocessing import sequence\n",
    "from keras.preprocessing.text import Tokenizer\n",
    "from keras.callbacks import EarlyStopping\n",
    "\n",
    "# For array, dataset, and visualizing\n",
    "import numpy as np\n",
    "import pandas as pd\n",
    "import seaborn as sns\n",
    "import matplotlib.pyplot as plt\n",
    "\n",
    "sns.set_style(\"whitegrid\")\n",
    "np.random.seed(0)\n",
    "\n",
    "MAX_NB_WORDS = 100000\n",
    "tokenizer = RegexpTokenizer(r'\\w+')\n",
    "stop_words = set(stopwords.words('english'))\n",
    "stop_words.update(['.', ',', '\"', \"'\", ':', ';', '(', ')', '[', ']', '{', '}'])"
   ]
  },
  {
   "cell_type": "code",
   "execution_count": 2,
   "metadata": {},
   "outputs": [
    {
     "name": "stdout",
     "output_type": "stream",
     "text": [
      "loading word embeddings...\n"
     ]
    },
    {
     "data": {
      "text/plain": [
       "\"\\nfor line in tqdm(f):\\n    values = line.rstrip().rsplit(' ')\\n    word = values[0]\\n    coefs = np.asarray(values[1:], dtype='float32')\\n    embeddings_index[word] = coefs\\nf.close()\\n\\nprint('found %s word vectors' % len(embeddings_index))\\n\""
      ]
     },
     "execution_count": 2,
     "metadata": {},
     "output_type": "execute_result"
    }
   ],
   "source": [
    "print('loading word embeddings...')\n",
    "\n",
    "embeddings_index = {}\n",
    "f = codecs.open('../crawl-300d-2M.vec', encoding='utf-8')\n",
    "'''\n",
    "for line in tqdm(f):\n",
    "    values = line.rstrip().rsplit(' ')\n",
    "    word = values[0]\n",
    "    coefs = np.asarray(values[1:], dtype='float32')\n",
    "    embeddings_index[word] = coefs\n",
    "f.close()\n",
    "\n",
    "print('found %s word vectors' % len(embeddings_index))\n",
    "'''"
   ]
  },
  {
   "cell_type": "code",
   "execution_count": 3,
   "metadata": {},
   "outputs": [
    {
     "name": "stdout",
     "output_type": "stream",
     "text": [
      "Number of training data  15656\n",
      "Number of testing data:  3915\n"
     ]
    }
   ],
   "source": [
    "from sklearn.model_selection import train_test_split\n",
    "#load data\n",
    "data = pd.read_csv('code-review-dataset-full.csv', sep=',', header=0)\n",
    "\n",
    "#data  =pd.read_excel('../code-review-dataset-full.xlsx')\n",
    "train_data, test_data = train_test_split(data, test_size=0.2, random_state=42, shuffle=True)\n",
    "test_data.to_csv(\"SEtest_dat.csv\")\n",
    "train_data.to_csv(\"SEtrain_dat.csv\")\n",
    "\n",
    "train_df = pd.read_csv('SEtrain_dat.csv', sep=',', header=0)\n",
    "test_df = pd.read_csv('SEtest_dat.csv', sep=',', header=0)\n",
    "test_df = test_df.fillna('_NA_')\n",
    "\n",
    "print(\"Number of training data \", train_df.shape[0])\n",
    "print(\"Number of testing data: \", test_df.shape[0])"
   ]
  },
  {
   "cell_type": "code",
   "execution_count": 4,
   "metadata": {},
   "outputs": [
    {
     "name": "stderr",
     "output_type": "stream",
     "text": [
      "/opt/anaconda/envs/tfgpu-3.6.8/lib/python3.6/site-packages/seaborn/distributions.py:2551: FutureWarning: `distplot` is a deprecated function and will be removed in a future version. Please adapt your code to use either `displot` (a figure-level function with similar flexibility) or `histplot` (an axes-level function for histograms).\n",
      "  warnings.warn(msg, FutureWarning)\n"
     ]
    },
    {
     "data": {
      "image/png": "[encoded data removed]",
      "text/plain": [
       "<Figure size 432x288 with 1 Axes>"
      ]
     },
     "metadata": {},
     "output_type": "display_data"
    }
   ],
   "source": [
    "label_names = [\"is_toxic\"]\n",
    "y_train = train_df[label_names].values\n",
    "train_df['doc_len'] = train_df['message'].apply(lambda words: len(words.split(\" \")))\n",
    "max_seq_len = np.round(train_df['doc_len'].mean() + train_df['doc_len'].std()).astype(int)\n",
    "\n",
    "sns.distplot(train_df['doc_len'], hist=True, kde=True, color='b', label='doc len')\n",
    "plt.axvline(x=max_seq_len, color='k', linestyle='--', label='max len')\n",
    "plt.title('comment length'); plt.legend()\n",
    "plt.show()"
   ]
  },
  {
   "cell_type": "code",
   "execution_count": 5,
   "metadata": {},
   "outputs": [
    {
     "name": "stderr",
     "output_type": "stream",
     "text": [
      "  4%|▍         | 623/15656 [00:00<00:02, 6217.75it/s]"
     ]
    },
    {
     "name": "stdout",
     "output_type": "stream",
     "text": [
      "pre-processing train data...\n"
     ]
    },
    {
     "name": "stderr",
     "output_type": "stream",
     "text": [
      "100%|██████████| 15656/15656 [00:02<00:00, 6613.20it/s]\n",
      "100%|██████████| 3915/3915 [00:00<00:00, 6537.64it/s]\n"
     ]
    },
    {
     "name": "stdout",
     "output_type": "stream",
     "text": [
      "tokenizing input data...\n",
      "dictionary size:  16808\n"
     ]
    }
   ],
   "source": [
    "from sklearn.utils import shuffle \n",
    "\n",
    "raw_docs_train = train_df['message'].tolist()\n",
    "raw_docs_test = test_df['message'].tolist() \n",
    "num_classes = len(label_names)\n",
    "\n",
    "print(\"pre-processing train data...\")\n",
    "\n",
    "processed_docs_train = []\n",
    "for doc in tqdm(raw_docs_train):\n",
    "    tokens = word_tokenize(doc)\n",
    "    filtered = [word for word in tokens if word not in stop_words]\n",
    "    processed_docs_train.append(\" \".join(filtered))\n",
    "#end for\n",
    "\n",
    "processed_docs_test = []\n",
    "for doc in tqdm(raw_docs_test):\n",
    "    tokens = word_tokenize(doc)\n",
    "    filtered = [word for word in tokens if word not in stop_words]\n",
    "    processed_docs_test.append(\" \".join(filtered))\n",
    "#end for\n",
    "\n",
    "print(\"tokenizing input data...\")\n",
    "tokenizer = Tokenizer(num_words=MAX_NB_WORDS, lower=True, char_level=False)\n",
    "tokenizer.fit_on_texts(processed_docs_train + processed_docs_test)  #leaky\n",
    "word_seq_train = tokenizer.texts_to_sequences(processed_docs_train)\n",
    "word_seq_test = tokenizer.texts_to_sequences(processed_docs_test)\n",
    "word_index = tokenizer.word_index\n",
    "print(\"dictionary size: \", len(word_index))\n",
    "\n",
    "#pad sequences\n",
    "word_seq_train = sequence.pad_sequences(word_seq_train, maxlen=max_seq_len)\n",
    "word_seq_test = sequence.pad_sequences(word_seq_test, maxlen=max_seq_len)"
   ]
  },
  {
   "cell_type": "code",
   "execution_count": 6,
   "metadata": {},
   "outputs": [],
   "source": [
    "#training params\n",
    "batch_size = 256 \n",
    "num_epochs = 40\n",
    "\n",
    "#model parameters\n",
    "num_filters = 64 \n",
    "embed_dim = 300 \n",
    "weight_decay = 1e-4"
   ]
  },
  {
   "cell_type": "code",
   "execution_count": 7,
   "metadata": {},
   "outputs": [
    {
     "name": "stdout",
     "output_type": "stream",
     "text": [
      "preparing embedding matrix...\n",
      "number of null word embeddings: 16809\n"
     ]
    }
   ],
   "source": [
    "#embedding matrix\n",
    "\n",
    "print('preparing embedding matrix...')\n",
    "\n",
    "words_not_found = []\n",
    "nb_words = min(MAX_NB_WORDS, len(word_index)+1)\n",
    "embedding_matrix = np.zeros((nb_words, embed_dim))\n",
    "\n",
    "for word, i in word_index.items():\n",
    "    if i >= nb_words:\n",
    "        continue\n",
    "    embedding_vector = embeddings_index.get(word)\n",
    "    if (embedding_vector is not None) and len(embedding_vector) > 0:\n",
    "        # words not found in embedding index will be all-zeros.\n",
    "        embedding_matrix[i] = embedding_vector\n",
    "    else:\n",
    "        words_not_found.append(word)\n",
    "print('number of null word embeddings: %d' % np.sum(np.sum(embedding_matrix, axis=1) == 0))"
   ]
  },
  {
   "cell_type": "code",
   "execution_count": 8,
   "metadata": {},
   "outputs": [
    {
     "name": "stdout",
     "output_type": "stream",
     "text": [
      "sample words not found:  ['quickly' 'libcutils' 'vanilla' 'mentrystack' \"'vip\" 'addentry'\n",
      " '857adeada9cc3276e79ceb828959a3ffe2d7409b' 'secondaries' 'valueof'\n",
      " 'kbits']\n"
     ]
    }
   ],
   "source": [
    "print(\"sample words not found: \", np.random.choice(words_not_found, 10))\n"
   ]
  },
  {
   "cell_type": "code",
   "execution_count": 9,
   "metadata": {},
   "outputs": [
    {
     "name": "stdout",
     "output_type": "stream",
     "text": [
      "WARNING:tensorflow:From /home/amiangshu/.local/lib/python3.6/site-packages/tensorflow/python/keras/initializers.py:119: calling RandomUniform.__init__ (from tensorflow.python.ops.init_ops) with dtype is deprecated and will be removed in a future version.\n",
      "Instructions for updating:\n",
      "Call initializer instance with the dtype argument instead of passing it to the constructor\n",
      "WARNING:tensorflow:From /home/amiangshu/.local/lib/python3.6/site-packages/tensorflow/python/ops/init_ops.py:1251: calling VarianceScaling.__init__ (from tensorflow.python.ops.init_ops) with dtype is deprecated and will be removed in a future version.\n",
      "Instructions for updating:\n",
      "Call initializer instance with the dtype argument instead of passing it to the constructor\n",
      "WARNING:tensorflow:From /home/amiangshu/.local/lib/python3.6/site-packages/tensorflow/python/ops/init_ops.py:97: calling GlorotUniform.__init__ (from tensorflow.python.ops.init_ops) with dtype is deprecated and will be removed in a future version.\n",
      "Instructions for updating:\n",
      "Call initializer instance with the dtype argument instead of passing it to the constructor\n",
      "WARNING:tensorflow:From /home/amiangshu/.local/lib/python3.6/site-packages/tensorflow/python/ops/init_ops.py:97: calling Orthogonal.__init__ (from tensorflow.python.ops.init_ops) with dtype is deprecated and will be removed in a future version.\n",
      "Instructions for updating:\n",
      "Call initializer instance with the dtype argument instead of passing it to the constructor\n",
      "WARNING:tensorflow:From /home/amiangshu/.local/lib/python3.6/site-packages/tensorflow/python/ops/init_ops.py:97: calling Zeros.__init__ (from tensorflow.python.ops.init_ops) with dtype is deprecated and will be removed in a future version.\n",
      "Instructions for updating:\n",
      "Call initializer instance with the dtype argument instead of passing it to the constructor\n",
      "Model: \"sequential\"\n",
      "_________________________________________________________________\n",
      "Layer (type)                 Output Shape              Param #   \n",
      "=================================================================\n",
      "embedding (Embedding)        (None, 43, 300)           5042700   \n",
      "_________________________________________________________________\n",
      "bidirectional (Bidirectional (None, 64)                85248     \n",
      "_________________________________________________________________\n",
      "dense (Dense)                (None, 32)                2080      \n",
      "_________________________________________________________________\n",
      "dropout (Dropout)            (None, 32)                0         \n",
      "_________________________________________________________________\n",
      "dense_1 (Dense)              (None, 1)                 33        \n",
      "=================================================================\n",
      "Total params: 5,130,061\n",
      "Trainable params: 87,361\n",
      "Non-trainable params: 5,042,700\n",
      "_________________________________________________________________\n"
     ]
    }
   ],
   "source": [
    "from keras.layers import BatchNormalization\n",
    "import tensorflow as tf\n",
    "\n",
    "model = tf.keras.Sequential()\n",
    "\n",
    "model.add(Embedding(nb_words,embed_dim,input_length=max_seq_len, weights=[embedding_matrix],trainable=False))\n",
    "model.add(Bidirectional(LSTM(32)))\n",
    "model.add(Dense(32,activation='relu'))\n",
    "model.add(Dropout(0.4))\n",
    "model.add(Dense(1,activation='sigmoid'))\n",
    "model.summary()"
   ]
  },
  {
   "cell_type": "code",
   "execution_count": 10,
   "metadata": {},
   "outputs": [
    {
     "name": "stdout",
     "output_type": "stream",
     "text": [
      "WARNING:tensorflow:From /home/amiangshu/.local/lib/python3.6/site-packages/tensorflow/python/ops/nn_impl.py:180: add_dispatch_support.<locals>.wrapper (from tensorflow.python.ops.array_ops) is deprecated and will be removed in a future version.\n",
      "Instructions for updating:\n",
      "Use tf.where in 2.0, which has the same broadcast rule as np.where\n",
      "Train on 10959 samples, validate on 4697 samples\n",
      "Epoch 1/40\n",
      "10959/10959 [==============================] - 4s 354us/sample - loss: 0.6868 - acc: 0.8077 - val_loss: 0.6800 - val_acc: 0.8120\n",
      "Epoch 2/40\n",
      "10959/10959 [==============================] - 3s 300us/sample - loss: 0.6741 - acc: 0.8077 - val_loss: 0.6675 - val_acc: 0.8120\n",
      "Epoch 3/40\n",
      "10959/10959 [==============================] - 3s 279us/sample - loss: 0.6622 - acc: 0.8077 - val_loss: 0.6557 - val_acc: 0.8120\n",
      "Epoch 4/40\n",
      "10959/10959 [==============================] - 3s 279us/sample - loss: 0.6508 - acc: 0.8077 - val_loss: 0.6445 - val_acc: 0.8120\n",
      "Epoch 5/40\n",
      "10959/10959 [==============================] - 3s 278us/sample - loss: 0.6401 - acc: 0.8077 - val_loss: 0.6340 - val_acc: 0.8120\n",
      "Epoch 6/40\n",
      "10959/10959 [==============================] - 3s 276us/sample - loss: 0.6300 - acc: 0.8077 - val_loss: 0.6240 - val_acc: 0.8120\n",
      "Epoch 7/40\n",
      "10959/10959 [==============================] - 3s 294us/sample - loss: 0.6205 - acc: 0.8077 - val_loss: 0.6146 - val_acc: 0.8120\n",
      "Epoch 8/40\n",
      "10959/10959 [==============================] - 3s 279us/sample - loss: 0.6115 - acc: 0.8077 - val_loss: 0.6057 - val_acc: 0.8120\n",
      "Epoch 9/40\n",
      "10959/10959 [==============================] - 3s 281us/sample - loss: 0.6030 - acc: 0.8077 - val_loss: 0.5973 - val_acc: 0.8120\n",
      "Epoch 10/40\n",
      "10959/10959 [==============================] - 3s 282us/sample - loss: 0.5950 - acc: 0.8077 - val_loss: 0.5894 - val_acc: 0.8120\n",
      "Epoch 11/40\n",
      "10959/10959 [==============================] - 3s 291us/sample - loss: 0.5875 - acc: 0.8077 - val_loss: 0.5820 - val_acc: 0.8120\n",
      "Epoch 12/40\n",
      "10959/10959 [==============================] - 3s 279us/sample - loss: 0.5805 - acc: 0.8077 - val_loss: 0.5750 - val_acc: 0.8120\n",
      "Epoch 13/40\n",
      "10959/10959 [==============================] - 3s 280us/sample - loss: 0.5739 - acc: 0.8077 - val_loss: 0.5685 - val_acc: 0.8120\n",
      "Epoch 14/40\n",
      "10959/10959 [==============================] - 3s 296us/sample - loss: 0.5677 - acc: 0.8077 - val_loss: 0.5623 - val_acc: 0.8120\n",
      "Epoch 15/40\n",
      "10959/10959 [==============================] - 3s 283us/sample - loss: 0.5618 - acc: 0.8077 - val_loss: 0.5566 - val_acc: 0.8120\n",
      "Epoch 16/40\n",
      "10959/10959 [==============================] - 3s 283us/sample - loss: 0.5564 - acc: 0.8077 - val_loss: 0.5512 - val_acc: 0.8120\n",
      "Epoch 17/40\n",
      "10959/10959 [==============================] - 3s 302us/sample - loss: 0.5513 - acc: 0.8077 - val_loss: 0.5461 - val_acc: 0.8120\n",
      "Epoch 18/40\n",
      "10959/10959 [==============================] - 3s 301us/sample - loss: 0.5465 - acc: 0.8077 - val_loss: 0.5414 - val_acc: 0.8120\n",
      "Epoch 19/40\n",
      "10959/10959 [==============================] - 3s 285us/sample - loss: 0.5421 - acc: 0.8077 - val_loss: 0.5370 - val_acc: 0.8120\n",
      "Epoch 20/40\n",
      "10959/10959 [==============================] - 3s 281us/sample - loss: 0.5379 - acc: 0.8077 - val_loss: 0.5328 - val_acc: 0.8120\n",
      "Epoch 21/40\n",
      "10959/10959 [==============================] - 3s 308us/sample - loss: 0.5340 - acc: 0.8077 - val_loss: 0.5290 - val_acc: 0.8120\n",
      "Epoch 22/40\n",
      "10959/10959 [==============================] - 3s 281us/sample - loss: 0.5304 - acc: 0.8077 - val_loss: 0.5254 - val_acc: 0.8120\n",
      "Epoch 23/40\n",
      "10959/10959 [==============================] - 3s 279us/sample - loss: 0.5271 - acc: 0.8077 - val_loss: 0.5220 - val_acc: 0.8120\n",
      "Epoch 24/40\n",
      "10959/10959 [==============================] - 3s 279us/sample - loss: 0.5240 - acc: 0.8077 - val_loss: 0.5189 - val_acc: 0.8120\n",
      "Epoch 25/40\n",
      "10959/10959 [==============================] - 3s 279us/sample - loss: 0.5211 - acc: 0.8077 - val_loss: 0.5160 - val_acc: 0.8120\n",
      "Epoch 26/40\n",
      "10959/10959 [==============================] - 3s 279us/sample - loss: 0.5184 - acc: 0.8077 - val_loss: 0.5133 - val_acc: 0.8120\n",
      "Epoch 27/40\n",
      "10959/10959 [==============================] - 3s 281us/sample - loss: 0.5159 - acc: 0.8077 - val_loss: 0.5108 - val_acc: 0.8120\n",
      "Epoch 28/40\n",
      "10959/10959 [==============================] - 3s 280us/sample - loss: 0.5136 - acc: 0.8077 - val_loss: 0.5085 - val_acc: 0.8120\n",
      "Epoch 29/40\n",
      "10959/10959 [==============================] - 3s 283us/sample - loss: 0.5114 - acc: 0.8077 - val_loss: 0.5064 - val_acc: 0.8120\n",
      "Epoch 30/40\n",
      "10959/10959 [==============================] - 3s 285us/sample - loss: 0.5095 - acc: 0.8077 - val_loss: 0.5044 - val_acc: 0.8120\n",
      "Epoch 31/40\n",
      "10959/10959 [==============================] - 3s 283us/sample - loss: 0.5076 - acc: 0.8077 - val_loss: 0.5025 - val_acc: 0.8120\n",
      "Epoch 32/40\n",
      "10959/10959 [==============================] - 3s 283us/sample - loss: 0.5060 - acc: 0.8077 - val_loss: 0.5009 - val_acc: 0.8120\n",
      "Epoch 33/40\n",
      "10959/10959 [==============================] - 3s 286us/sample - loss: 0.5044 - acc: 0.8077 - val_loss: 0.4993 - val_acc: 0.8120\n",
      "Epoch 34/40\n",
      "10959/10959 [==============================] - 3s 274us/sample - loss: 0.5030 - acc: 0.8077 - val_loss: 0.4978 - val_acc: 0.8120\n",
      "Epoch 35/40\n",
      "10959/10959 [==============================] - 3s 304us/sample - loss: 0.5017 - acc: 0.8077 - val_loss: 0.4965 - val_acc: 0.8120\n",
      "Epoch 36/40\n",
      "10959/10959 [==============================] - 3s 306us/sample - loss: 0.5005 - acc: 0.8077 - val_loss: 0.4953 - val_acc: 0.8120\n",
      "Epoch 37/40\n",
      "10959/10959 [==============================] - 3s 287us/sample - loss: 0.4994 - acc: 0.8077 - val_loss: 0.4942 - val_acc: 0.8120\n",
      "Epoch 38/40\n",
      "10959/10959 [==============================] - 3s 281us/sample - loss: 0.4984 - acc: 0.8077 - val_loss: 0.4932 - val_acc: 0.8120\n",
      "Epoch 39/40\n",
      "10959/10959 [==============================] - 3s 279us/sample - loss: 0.4975 - acc: 0.8077 - val_loss: 0.4922 - val_acc: 0.8120\n",
      "Epoch 40/40\n",
      "10959/10959 [==============================] - 3s 281us/sample - loss: 0.4967 - acc: 0.8077 - val_loss: 0.4914 - val_acc: 0.8120\n"
     ]
    }
   ],
   "source": [
    "from keras.optimizers import RMSprop\n",
    "from keras.callbacks import ModelCheckpoint\n",
    "from tensorflow.keras.callbacks import EarlyStopping\n",
    "\n",
    "model.compile(loss='binary_crossentropy', optimizer='adam', metrics=['accuracy'])\n",
    "\n",
    "es_callback = EarlyStopping(monitor='val_loss', patience=3)\n",
    "\n",
    "history = model.fit(word_seq_train, y_train, batch_size=256,\n",
    "          epochs=num_epochs, validation_split=0.3, callbacks=[es_callback], shuffle=False)"
   ]
  },
  {
   "cell_type": "code",
   "execution_count": 11,
   "metadata": {},
   "outputs": [
    {
     "data": {
      "image/png": "[encoded data removed]",
      "text/plain": [
       "<Figure size 432x288 with 1 Axes>"
      ]
     },
     "metadata": {},
     "output_type": "display_data"
    }
   ],
   "source": [
    "#generate plots\n",
    "plt.figure()\n",
    "plt.plot(history.history['loss'], lw=2.0, color='b', label='train')\n",
    "plt.plot(history.history['val_loss'], lw=2.0, color='r', label='val')\n",
    "plt.title('LSTM sentiment')\n",
    "plt.xlabel('Epochs')\n",
    "plt.ylabel('Cross-Entropy Loss')\n",
    "plt.legend(loc='upper right')\n",
    "plt.show()"
   ]
  },
  {
   "cell_type": "code",
   "execution_count": 12,
   "metadata": {},
   "outputs": [
    {
     "data": {
      "image/png": "[encoded data removed]",
      "text/plain": [
       "<Figure size 432x288 with 1 Axes>"
      ]
     },
     "metadata": {},
     "output_type": "display_data"
    }
   ],
   "source": [
    "plt.figure()\n",
    "plt.plot(history.history['acc'], lw=2.0, color='b', label='train')\n",
    "plt.plot(history.history['val_acc'], lw=2.0, color='r', label='val')\n",
    "plt.title('LSTM toxic SE')\n",
    "plt.xlabel('Epochs')\n",
    "plt.ylabel('Accuracy')\n",
    "plt.legend(loc='upper left')\n",
    "plt.show()"
   ]
  },
  {
   "cell_type": "code",
   "execution_count": 13,
   "metadata": {},
   "outputs": [],
   "source": [
    "keras.backend.clear_session()"
   ]
  },
  {
   "cell_type": "code",
   "execution_count": 14,
   "metadata": {},
   "outputs": [
    {
     "name": "stderr",
     "output_type": "stream",
     "text": [
      "1268it [00:00, 12674.84it/s]"
     ]
    },
    {
     "name": "stdout",
     "output_type": "stream",
     "text": [
      "loading word embeddings...\n"
     ]
    },
    {
     "name": "stderr",
     "output_type": "stream",
     "text": [
      "2196018it [02:25, 15129.12it/s]"
     ]
    },
    {
     "name": "stdout",
     "output_type": "stream",
     "text": [
      "found 2196016 word vectors\n"
     ]
    },
    {
     "name": "stderr",
     "output_type": "stream",
     "text": [
      "\n"
     ]
    }
   ],
   "source": [
    "print('loading word embeddings...')\n",
    "\n",
    "embeddings_index = {}\n",
    "f = codecs.open('../glove.840B.300d.txt', encoding='utf-8')\n",
    "\n",
    "for line in tqdm(f):\n",
    "    values = line.rstrip().rsplit(' ')\n",
    "    word = values[0]\n",
    "    coefs = np.asarray(values[1:], dtype='float32')\n",
    "    embeddings_index[word] = coefs\n",
    "f.close()\n",
    "\n",
    "print('found %s word vectors' % len(embeddings_index))\n"
   ]
  },
  {
   "cell_type": "code",
   "execution_count": 15,
   "metadata": {},
   "outputs": [
    {
     "name": "stderr",
     "output_type": "stream",
     "text": [
      "  4%|▍         | 653/15656 [00:00<00:02, 6526.51it/s]"
     ]
    },
    {
     "name": "stdout",
     "output_type": "stream",
     "text": [
      "pre-processing train data...\n"
     ]
    },
    {
     "name": "stderr",
     "output_type": "stream",
     "text": [
      "100%|██████████| 15656/15656 [00:02<00:00, 6606.47it/s]\n",
      "100%|██████████| 3915/3915 [00:00<00:00, 6705.52it/s]\n"
     ]
    },
    {
     "name": "stdout",
     "output_type": "stream",
     "text": [
      "tokenizing input data...\n",
      "dictionary size:  16808\n"
     ]
    }
   ],
   "source": [
    "\n",
    "from sklearn.utils import shuffle \n",
    "\n",
    "raw_docs_train = train_df['message'].tolist()\n",
    "raw_docs_test = test_df['message'].tolist() \n",
    "num_classes = len(label_names)\n",
    "\n",
    "print(\"pre-processing train data...\")\n",
    "\n",
    "processed_docs_train = []\n",
    "for doc in tqdm(raw_docs_train):\n",
    "    tokens = word_tokenize(doc)\n",
    "    filtered = [word for word in tokens if word not in stop_words]\n",
    "    processed_docs_train.append(\" \".join(filtered))\n",
    "#end for\n",
    "\n",
    "processed_docs_test = []\n",
    "for doc in tqdm(raw_docs_test):\n",
    "    tokens = word_tokenize(doc)\n",
    "    filtered = [word for word in tokens if word not in stop_words]\n",
    "    processed_docs_test.append(\" \".join(filtered))\n",
    "#end for\n",
    "\n",
    "print(\"tokenizing input data...\")\n",
    "tokenizer = Tokenizer(num_words=MAX_NB_WORDS, lower=True, char_level=False)\n",
    "tokenizer.fit_on_texts(processed_docs_train + processed_docs_test)  #leaky\n",
    "word_seq_train = tokenizer.texts_to_sequences(processed_docs_train)\n",
    "word_seq_test = tokenizer.texts_to_sequences(processed_docs_test)\n",
    "word_index = tokenizer.word_index\n",
    "print(\"dictionary size: \", len(word_index))\n",
    "\n",
    "#pad sequences\n",
    "word_seq_train = sequence.pad_sequences(word_seq_train, maxlen=max_seq_len)\n",
    "word_seq_test = sequence.pad_sequences(word_seq_test, maxlen=max_seq_len)"
   ]
  },
  {
   "cell_type": "code",
   "execution_count": 16,
   "metadata": {},
   "outputs": [
    {
     "name": "stdout",
     "output_type": "stream",
     "text": [
      "Model: \"sequential\"\n",
      "_________________________________________________________________\n",
      "Layer (type)                 Output Shape              Param #   \n",
      "=================================================================\n",
      "embedding (Embedding)        (None, 43, 300)           5042700   \n",
      "_________________________________________________________________\n",
      "bidirectional (Bidirectional (None, 64)                85248     \n",
      "_________________________________________________________________\n",
      "dense (Dense)                (None, 32)                2080      \n",
      "_________________________________________________________________\n",
      "dropout (Dropout)            (None, 32)                0         \n",
      "_________________________________________________________________\n",
      "dense_1 (Dense)              (None, 1)                 33        \n",
      "=================================================================\n",
      "Total params: 5,130,061\n",
      "Trainable params: 87,361\n",
      "Non-trainable params: 5,042,700\n",
      "_________________________________________________________________\n"
     ]
    }
   ],
   "source": [
    "from keras.layers import BatchNormalization\n",
    "import tensorflow as tf\n",
    "\n",
    "model_glove = tf.keras.Sequential()\n",
    "\n",
    "model_glove.add(Embedding(nb_words,embed_dim,input_length=max_seq_len, weights=[embedding_matrix],trainable=False))\n",
    "model_glove.add(Bidirectional(LSTM(32)))\n",
    "model_glove.add(Dense(32,activation='relu'))\n",
    "model_glove.add(Dropout(0.4))\n",
    "model_glove.add(Dense(1,activation='sigmoid'))\n",
    "model_glove.summary()"
   ]
  },
  {
   "cell_type": "code",
   "execution_count": 17,
   "metadata": {},
   "outputs": [],
   "source": [
    "from keras.optimizers import RMSprop\n",
    "from keras.callbacks import ModelCheckpoint\n",
    "from tensorflow.keras.callbacks import EarlyStopping\n",
    "\n",
    "model_glove.compile(loss='binary_crossentropy', optimizer='adam', metrics=['accuracy'])"
   ]
  },
  {
   "cell_type": "code",
   "execution_count": 18,
   "metadata": {},
   "outputs": [
    {
     "name": "stdout",
     "output_type": "stream",
     "text": [
      "Train on 10959 samples, validate on 4697 samples\n",
      "Epoch 1/40\n",
      "10959/10959 [==============================] - 4s 391us/sample - loss: 0.6868 - acc: 0.8077 - val_loss: 0.6800 - val_acc: 0.8120\n",
      "Epoch 2/40\n",
      "10959/10959 [==============================] - 3s 276us/sample - loss: 0.6741 - acc: 0.8077 - val_loss: 0.6675 - val_acc: 0.8120\n",
      "Epoch 3/40\n",
      "10959/10959 [==============================] - 3s 280us/sample - loss: 0.6622 - acc: 0.8077 - val_loss: 0.6557 - val_acc: 0.8120\n",
      "Epoch 4/40\n",
      "10959/10959 [==============================] - 3s 278us/sample - loss: 0.6508 - acc: 0.8077 - val_loss: 0.6445 - val_acc: 0.8120\n",
      "Epoch 5/40\n",
      "10959/10959 [==============================] - 3s 279us/sample - loss: 0.6401 - acc: 0.8077 - val_loss: 0.6340 - val_acc: 0.8120\n",
      "Epoch 6/40\n",
      "10959/10959 [==============================] - 3s 295us/sample - loss: 0.6300 - acc: 0.8077 - val_loss: 0.6240 - val_acc: 0.8120\n",
      "Epoch 7/40\n",
      "10959/10959 [==============================] - 3s 281us/sample - loss: 0.6205 - acc: 0.8077 - val_loss: 0.6146 - val_acc: 0.8120\n",
      "Epoch 8/40\n",
      "10959/10959 [==============================] - 3s 281us/sample - loss: 0.6115 - acc: 0.8077 - val_loss: 0.6057 - val_acc: 0.8120\n",
      "Epoch 9/40\n",
      "10959/10959 [==============================] - 3s 304us/sample - loss: 0.6030 - acc: 0.8077 - val_loss: 0.5973 - val_acc: 0.8120\n",
      "Epoch 10/40\n",
      "10959/10959 [==============================] - 3s 294us/sample - loss: 0.5950 - acc: 0.8077 - val_loss: 0.5894 - val_acc: 0.8120\n",
      "Epoch 11/40\n",
      "10959/10959 [==============================] - 3s 296us/sample - loss: 0.5875 - acc: 0.8077 - val_loss: 0.5820 - val_acc: 0.8120\n",
      "Epoch 12/40\n",
      "10959/10959 [==============================] - 3s 282us/sample - loss: 0.5805 - acc: 0.8077 - val_loss: 0.5750 - val_acc: 0.8120\n",
      "Epoch 13/40\n",
      "10959/10959 [==============================] - 3s 281us/sample - loss: 0.5739 - acc: 0.8077 - val_loss: 0.5685 - val_acc: 0.8120\n",
      "Epoch 14/40\n",
      "10959/10959 [==============================] - 3s 297us/sample - loss: 0.5677 - acc: 0.8077 - val_loss: 0.5623 - val_acc: 0.8120\n",
      "Epoch 15/40\n",
      "10959/10959 [==============================] - 3s 300us/sample - loss: 0.5618 - acc: 0.8077 - val_loss: 0.5566 - val_acc: 0.8120\n",
      "Epoch 16/40\n",
      "10959/10959 [==============================] - 3s 301us/sample - loss: 0.5564 - acc: 0.8077 - val_loss: 0.5512 - val_acc: 0.8120\n",
      "Epoch 17/40\n",
      "10959/10959 [==============================] - 3s 283us/sample - loss: 0.5513 - acc: 0.8077 - val_loss: 0.5461 - val_acc: 0.8120\n",
      "Epoch 18/40\n",
      "10959/10959 [==============================] - 3s 282us/sample - loss: 0.5465 - acc: 0.8077 - val_loss: 0.5414 - val_acc: 0.8120\n",
      "Epoch 19/40\n",
      "10959/10959 [==============================] - 3s 284us/sample - loss: 0.5421 - acc: 0.8077 - val_loss: 0.5370 - val_acc: 0.8120\n",
      "Epoch 20/40\n",
      "10959/10959 [==============================] - 3s 283us/sample - loss: 0.5379 - acc: 0.8077 - val_loss: 0.5328 - val_acc: 0.8120\n",
      "Epoch 21/40\n",
      "10959/10959 [==============================] - 3s 284us/sample - loss: 0.5340 - acc: 0.8077 - val_loss: 0.5290 - val_acc: 0.8120\n",
      "Epoch 22/40\n",
      "10959/10959 [==============================] - 3s 284us/sample - loss: 0.5304 - acc: 0.8077 - val_loss: 0.5254 - val_acc: 0.8120\n",
      "Epoch 23/40\n",
      "10959/10959 [==============================] - 3s 284us/sample - loss: 0.5271 - acc: 0.8077 - val_loss: 0.5220 - val_acc: 0.8120\n",
      "Epoch 24/40\n",
      "10959/10959 [==============================] - 3s 283us/sample - loss: 0.5240 - acc: 0.8077 - val_loss: 0.5189 - val_acc: 0.8120\n",
      "Epoch 25/40\n",
      "10959/10959 [==============================] - 3s 285us/sample - loss: 0.5211 - acc: 0.8077 - val_loss: 0.5160 - val_acc: 0.8120\n",
      "Epoch 26/40\n",
      "10959/10959 [==============================] - 3s 285us/sample - loss: 0.5184 - acc: 0.8077 - val_loss: 0.5133 - val_acc: 0.8120\n",
      "Epoch 27/40\n",
      "10959/10959 [==============================] - 3s 287us/sample - loss: 0.5159 - acc: 0.8077 - val_loss: 0.5108 - val_acc: 0.8120\n",
      "Epoch 28/40\n",
      "10959/10959 [==============================] - 3s 286us/sample - loss: 0.5136 - acc: 0.8077 - val_loss: 0.5085 - val_acc: 0.8120\n",
      "Epoch 29/40\n",
      "10959/10959 [==============================] - 3s 287us/sample - loss: 0.5114 - acc: 0.8077 - val_loss: 0.5064 - val_acc: 0.8120\n",
      "Epoch 30/40\n",
      "10959/10959 [==============================] - 3s 287us/sample - loss: 0.5095 - acc: 0.8077 - val_loss: 0.5044 - val_acc: 0.8120\n",
      "Epoch 31/40\n",
      "10959/10959 [==============================] - 3s 297us/sample - loss: 0.5076 - acc: 0.8077 - val_loss: 0.5025 - val_acc: 0.8120\n",
      "Epoch 32/40\n",
      "10959/10959 [==============================] - 3s 288us/sample - loss: 0.5060 - acc: 0.8077 - val_loss: 0.5009 - val_acc: 0.8120\n",
      "Epoch 33/40\n",
      "10959/10959 [==============================] - 3s 284us/sample - loss: 0.5044 - acc: 0.8077 - val_loss: 0.4993 - val_acc: 0.8120\n",
      "Epoch 34/40\n",
      "10959/10959 [==============================] - 3s 284us/sample - loss: 0.5030 - acc: 0.8077 - val_loss: 0.4978 - val_acc: 0.8120\n",
      "Epoch 35/40\n",
      "10959/10959 [==============================] - 3s 283us/sample - loss: 0.5017 - acc: 0.8077 - val_loss: 0.4965 - val_acc: 0.8120\n",
      "Epoch 36/40\n",
      "10959/10959 [==============================] - 3s 275us/sample - loss: 0.5005 - acc: 0.8077 - val_loss: 0.4953 - val_acc: 0.8120\n",
      "Epoch 37/40\n",
      "10959/10959 [==============================] - 3s 273us/sample - loss: 0.4994 - acc: 0.8077 - val_loss: 0.4942 - val_acc: 0.8120\n",
      "Epoch 38/40\n",
      "10959/10959 [==============================] - 3s 275us/sample - loss: 0.4984 - acc: 0.8077 - val_loss: 0.4932 - val_acc: 0.8120\n",
      "Epoch 39/40\n",
      "10959/10959 [==============================] - 3s 274us/sample - loss: 0.4975 - acc: 0.8077 - val_loss: 0.4922 - val_acc: 0.8120\n",
      "Epoch 40/40\n",
      "10959/10959 [==============================] - 3s 277us/sample - loss: 0.4967 - acc: 0.8077 - val_loss: 0.4914 - val_acc: 0.8120\n"
     ]
    }
   ],
   "source": [
    "es_callback = EarlyStopping(monitor='val_loss', patience=3)\n",
    "\n",
    "history_glove = model_glove.fit(word_seq_train, y_train, batch_size=256,\n",
    "          epochs=num_epochs, validation_split=0.3, callbacks=[es_callback], shuffle=False)"
   ]
  },
  {
   "cell_type": "code",
   "execution_count": 19,
   "metadata": {},
   "outputs": [
    {
     "data": {
      "image/png": "[encoded data removed]",
      "text/plain": [
       "<Figure size 432x288 with 1 Axes>"
      ]
     },
     "metadata": {},
     "output_type": "display_data"
    }
   ],
   "source": [
    "#generate plots\n",
    "plt.figure()\n",
    "plt.plot(history_glove.history['loss'], lw=2.0, color='b', label='train')\n",
    "plt.plot(history_glove.history['val_loss'], lw=2.0, color='r', label='val')\n",
    "plt.title('LSTM sentiment')\n",
    "plt.xlabel('Epochs')\n",
    "plt.ylabel('Cross-Entropy Loss')\n",
    "plt.legend(loc='upper right')\n",
    "plt.show()"
   ]
  },
  {
   "cell_type": "code",
   "execution_count": 20,
   "metadata": {},
   "outputs": [
    {
     "data": {
      "image/png": "[encoded data removed]",
      "text/plain": [
       "<Figure size 432x288 with 1 Axes>"
      ]
     },
     "metadata": {},
     "output_type": "display_data"
    }
   ],
   "source": [
    "plt.figure()\n",
    "plt.plot(history_glove.history['acc'], lw=2.0, color='b', label='train')\n",
    "plt.plot(history_glove.history['val_acc'], lw=2.0, color='r', label='val')\n",
    "plt.title('LSTM sentiment')\n",
    "plt.xlabel('Epochs')\n",
    "plt.ylabel('Accuracy')\n",
    "plt.legend(loc='upper left')\n",
    "plt.show()"
   ]
  },
  {
   "cell_type": "code",
   "execution_count": 21,
   "metadata": {},
   "outputs": [],
   "source": [
    "predictions = model_glove.predict_classes(word_seq_test)\n",
    "sample=pd.read_csv('SEtest_dat.csv')\n",
    "sample['pred']= (predictions>=0.5).astype(int)"
   ]
  },
  {
   "cell_type": "code",
   "execution_count": 22,
   "metadata": {},
   "outputs": [
    {
     "name": "stdout",
     "output_type": "stream",
     "text": [
      "      Unnamed: 0                                            message  is_toxic  \\\n",
      "0           6134  Yeah, I think this comment doesn't add anythin...         0   \n",
      "1           5631  use std::string and StringPrintf() from base/s...         0   \n",
      "2          16782                     Wrong param. Should be cg_ref.         0   \n",
      "3           7125                                        double crap         1   \n",
      "4           4871  These log tags are going to be kind of shit. W...         1   \n",
      "...          ...                                                ...       ...   \n",
      "3910       18184                    public_endpoint, admin_endpoint         0   \n",
      "3911        5245  This naming sucks.  Better\\n\\n for test_specs ...         1   \n",
      "3912       14490  Yuck and a half. I need to start a petition to...         1   \n",
      "3913       10665                  These should be run through i18n.         0   \n",
      "3914        5348  This string seems a bit awkward, have we run i...         0   \n",
      "\n",
      "      pred  \n",
      "0        0  \n",
      "1        0  \n",
      "2        0  \n",
      "3        0  \n",
      "4        0  \n",
      "...    ...  \n",
      "3910     0  \n",
      "3911     0  \n",
      "3912     0  \n",
      "3913     0  \n",
      "3914     0  \n",
      "\n",
      "[3915 rows x 4 columns]\n"
     ]
    }
   ],
   "source": [
    "print(sample)"
   ]
  },
  {
   "cell_type": "code",
   "execution_count": 23,
   "metadata": {},
   "outputs": [
    {
     "name": "stdout",
     "output_type": "stream",
     "text": [
      "Accuracy With GloVe :\n",
      "0.8053639846743295\n",
      "              precision    recall  f1-score   support\n",
      "\n",
      "           0       0.81      1.00      0.89      3153\n",
      "           1       0.00      0.00      0.00       762\n",
      "\n",
      "    accuracy                           0.81      3915\n",
      "   macro avg       0.40      0.50      0.45      3915\n",
      "weighted avg       0.65      0.81      0.72      3915\n",
      "\n"
     ]
    },
    {
     "name": "stderr",
     "output_type": "stream",
     "text": [
      "/opt/anaconda/envs/tfgpu-3.6.8/lib/python3.6/site-packages/sklearn/metrics/_classification.py:1221: UndefinedMetricWarning: Precision and F-score are ill-defined and being set to 0.0 in labels with no predicted samples. Use `zero_division` parameter to control this behavior.\n",
      "  _warn_prf(average, modifier, msg_start, len(result))\n"
     ]
    }
   ],
   "source": [
    "\n",
    "import sklearn\n",
    "print(\"Accuracy With GloVe :\")\n",
    "print(sklearn.metrics.accuracy_score(sample.is_toxic, sample.pred))\n",
    "from sklearn import metrics\n",
    "print(metrics.classification_report(sample.is_toxic, sample.pred))"
   ]
  },
  {
   "cell_type": "code",
   "execution_count": 24,
   "metadata": {},
   "outputs": [],
   "source": [
    "keras.backend.clear_session()"
   ]
  },
  {
   "cell_type": "code",
   "execution_count": 25,
   "metadata": {},
   "outputs": [
    {
     "name": "stdout",
     "output_type": "stream",
     "text": [
      "Model: \"sequential\"\n",
      "_________________________________________________________________\n",
      "Layer (type)                 Output Shape              Param #   \n",
      "=================================================================\n",
      "embedding (Embedding)        (None, 43, 300)           5042700   \n",
      "_________________________________________________________________\n",
      "bidirectional (Bidirectional (None, 64)                85248     \n",
      "_________________________________________________________________\n",
      "dense (Dense)                (None, 32)                2080      \n",
      "_________________________________________________________________\n",
      "dropout (Dropout)            (None, 32)                0         \n",
      "_________________________________________________________________\n",
      "dense_1 (Dense)              (None, 1)                 33        \n",
      "=================================================================\n",
      "Total params: 5,130,061\n",
      "Trainable params: 87,361\n",
      "Non-trainable params: 5,042,700\n",
      "_________________________________________________________________\n"
     ]
    }
   ],
   "source": [
    "from keras.layers import BatchNormalization\n",
    "import tensorflow as tf\n",
    "\n",
    "without_mod = tf.keras.Sequential()\n",
    "\n",
    "without_mod.add(Embedding(nb_words,embed_dim,input_length=max_seq_len,trainable=False))\n",
    "without_mod.add(Bidirectional(LSTM(32)))\n",
    "without_mod.add(Dense(32,activation='relu'))\n",
    "without_mod.add(Dropout(0.4))\n",
    "without_mod.add(Dense(1,activation='sigmoid'))\n",
    "without_mod.summary()"
   ]
  },
  {
   "cell_type": "code",
   "execution_count": 26,
   "metadata": {},
   "outputs": [],
   "source": [
    "from keras.optimizers import RMSprop\n",
    "from keras.callbacks import ModelCheckpoint\n",
    "from tensorflow.keras.callbacks import EarlyStopping\n",
    "\n",
    "without_mod.compile(loss='binary_crossentropy', optimizer='adam', metrics=['accuracy'])"
   ]
  },
  {
   "cell_type": "code",
   "execution_count": 27,
   "metadata": {},
   "outputs": [
    {
     "name": "stdout",
     "output_type": "stream",
     "text": [
      "Train on 10959 samples, validate on 4697 samples\n",
      "Epoch 1/40\n",
      "10959/10959 [==============================] - 4s 384us/sample - loss: 0.5329 - acc: 0.8032 - val_loss: 0.4827 - val_acc: 0.8120\n",
      "Epoch 2/40\n",
      "10959/10959 [==============================] - 3s 275us/sample - loss: 0.4943 - acc: 0.8077 - val_loss: 0.4785 - val_acc: 0.8120\n",
      "Epoch 3/40\n",
      "10959/10959 [==============================] - 3s 278us/sample - loss: 0.4837 - acc: 0.8077 - val_loss: 0.4656 - val_acc: 0.8120\n",
      "Epoch 4/40\n",
      "10959/10959 [==============================] - 3s 278us/sample - loss: 0.4634 - acc: 0.8084 - val_loss: 0.4412 - val_acc: 0.8086\n",
      "Epoch 5/40\n",
      "10959/10959 [==============================] - 3s 278us/sample - loss: 0.4350 - acc: 0.8090 - val_loss: 0.4175 - val_acc: 0.8095\n",
      "Epoch 6/40\n",
      "10959/10959 [==============================] - 3s 281us/sample - loss: 0.4140 - acc: 0.8144 - val_loss: 0.4037 - val_acc: 0.8178\n",
      "Epoch 7/40\n",
      "10959/10959 [==============================] - 3s 280us/sample - loss: 0.3983 - acc: 0.8283 - val_loss: 0.3865 - val_acc: 0.8271\n",
      "Epoch 8/40\n",
      "10959/10959 [==============================] - 3s 282us/sample - loss: 0.3831 - acc: 0.8388 - val_loss: 0.3766 - val_acc: 0.8378\n",
      "Epoch 9/40\n",
      "10959/10959 [==============================] - 3s 280us/sample - loss: 0.3703 - acc: 0.8479 - val_loss: 0.3701 - val_acc: 0.8446\n",
      "Epoch 10/40\n",
      "10959/10959 [==============================] - 3s 280us/sample - loss: 0.3599 - acc: 0.8522 - val_loss: 0.3623 - val_acc: 0.8480\n",
      "Epoch 11/40\n",
      "10959/10959 [==============================] - 3s 283us/sample - loss: 0.3515 - acc: 0.8577 - val_loss: 0.3596 - val_acc: 0.8476\n",
      "Epoch 12/40\n",
      "10959/10959 [==============================] - 3s 281us/sample - loss: 0.3430 - acc: 0.8629 - val_loss: 0.3556 - val_acc: 0.8520\n",
      "Epoch 13/40\n",
      "10959/10959 [==============================] - 3s 279us/sample - loss: 0.3379 - acc: 0.8652 - val_loss: 0.3556 - val_acc: 0.8546\n",
      "Epoch 14/40\n",
      "10959/10959 [==============================] - 3s 283us/sample - loss: 0.3319 - acc: 0.8690 - val_loss: 0.3488 - val_acc: 0.8588\n",
      "Epoch 15/40\n",
      "10959/10959 [==============================] - 3s 282us/sample - loss: 0.3234 - acc: 0.8745 - val_loss: 0.3465 - val_acc: 0.8599\n",
      "Epoch 16/40\n",
      "10959/10959 [==============================] - 3s 280us/sample - loss: 0.3186 - acc: 0.8757 - val_loss: 0.3448 - val_acc: 0.8595\n",
      "Epoch 17/40\n",
      "10959/10959 [==============================] - 3s 282us/sample - loss: 0.3152 - acc: 0.8775 - val_loss: 0.3427 - val_acc: 0.8623\n",
      "Epoch 18/40\n",
      "10959/10959 [==============================] - 3s 281us/sample - loss: 0.3085 - acc: 0.8833 - val_loss: 0.3395 - val_acc: 0.8614\n",
      "Epoch 19/40\n",
      "10959/10959 [==============================] - 3s 280us/sample - loss: 0.3068 - acc: 0.8834 - val_loss: 0.3382 - val_acc: 0.8614\n",
      "Epoch 20/40\n",
      "10959/10959 [==============================] - 3s 283us/sample - loss: 0.3024 - acc: 0.8838 - val_loss: 0.3361 - val_acc: 0.8657\n",
      "Epoch 21/40\n",
      "10959/10959 [==============================] - 3s 282us/sample - loss: 0.2989 - acc: 0.8857 - val_loss: 0.3391 - val_acc: 0.8669\n",
      "Epoch 22/40\n",
      "10959/10959 [==============================] - 3s 282us/sample - loss: 0.2973 - acc: 0.8871 - val_loss: 0.3350 - val_acc: 0.8710\n",
      "Epoch 23/40\n",
      "10959/10959 [==============================] - 3s 280us/sample - loss: 0.2961 - acc: 0.8899 - val_loss: 0.3354 - val_acc: 0.8697\n",
      "Epoch 24/40\n",
      "10959/10959 [==============================] - 3s 283us/sample - loss: 0.2914 - acc: 0.8910 - val_loss: 0.3319 - val_acc: 0.8671\n",
      "Epoch 25/40\n",
      "10959/10959 [==============================] - 3s 281us/sample - loss: 0.2872 - acc: 0.8929 - val_loss: 0.3335 - val_acc: 0.8686\n",
      "Epoch 26/40\n",
      "10959/10959 [==============================] - 3s 284us/sample - loss: 0.2842 - acc: 0.8948 - val_loss: 0.3317 - val_acc: 0.8706\n",
      "Epoch 27/40\n",
      "10959/10959 [==============================] - 3s 283us/sample - loss: 0.2794 - acc: 0.8974 - val_loss: 0.3323 - val_acc: 0.8699\n",
      "Epoch 28/40\n",
      "10959/10959 [==============================] - 3s 283us/sample - loss: 0.2731 - acc: 0.9002 - val_loss: 0.3314 - val_acc: 0.8712\n",
      "Epoch 29/40\n",
      "10959/10959 [==============================] - 3s 283us/sample - loss: 0.2674 - acc: 0.9026 - val_loss: 0.3326 - val_acc: 0.8727\n",
      "Epoch 30/40\n",
      "10959/10959 [==============================] - 3s 283us/sample - loss: 0.2657 - acc: 0.9056 - val_loss: 0.3338 - val_acc: 0.8740\n",
      "Epoch 31/40\n",
      "10959/10959 [==============================] - 3s 285us/sample - loss: 0.2606 - acc: 0.9073 - val_loss: 0.3306 - val_acc: 0.8740\n",
      "Epoch 32/40\n",
      "10959/10959 [==============================] - 3s 282us/sample - loss: 0.2573 - acc: 0.9090 - val_loss: 0.3374 - val_acc: 0.8757\n",
      "Epoch 33/40\n",
      "10959/10959 [==============================] - 3s 285us/sample - loss: 0.2515 - acc: 0.9098 - val_loss: 0.3315 - val_acc: 0.8772\n",
      "Epoch 34/40\n",
      "10959/10959 [==============================] - 3s 285us/sample - loss: 0.2473 - acc: 0.9140 - val_loss: 0.3295 - val_acc: 0.8791\n",
      "Epoch 35/40\n",
      "10959/10959 [==============================] - 3s 285us/sample - loss: 0.2427 - acc: 0.9204 - val_loss: 0.3320 - val_acc: 0.8801\n",
      "Epoch 36/40\n",
      "10959/10959 [==============================] - 3s 284us/sample - loss: 0.2406 - acc: 0.9163 - val_loss: 0.3367 - val_acc: 0.8797\n",
      "Epoch 37/40\n",
      "10959/10959 [==============================] - 3s 281us/sample - loss: 0.2413 - acc: 0.9151 - val_loss: 0.3393 - val_acc: 0.8801\n"
     ]
    }
   ],
   "source": [
    "es_callback = EarlyStopping(monitor='val_loss', patience=3)\n",
    "\n",
    "history_glove = without_mod.fit(word_seq_train, y_train, batch_size=256,\n",
    "          epochs=num_epochs, validation_split=0.3, callbacks=[es_callback], shuffle=False)"
   ]
  },
  {
   "cell_type": "code",
   "execution_count": 34,
   "metadata": {},
   "outputs": [],
   "source": [
    "\n",
    "predictions = without_mod.predict_classes(word_seq_test)\n",
    "sample=pd.read_csv('SEtest_dat.csv')\n",
    "sample['predictions']= (predictions>0.5).astype(int)"
   ]
  },
  {
   "cell_type": "code",
   "execution_count": 37,
   "metadata": {},
   "outputs": [
    {
     "name": "stdout",
     "output_type": "stream",
     "text": [
      "Accuracy With GloVe :\n",
      "0.8822477650063857\n"
     ]
    }
   ],
   "source": [
    "import sklearn\n",
    "print(\"Accuracy Without GloVe :\")\n",
    "print(sklearn.metrics.accuracy_score(sample.is_toxic, sample.predictions))"
   ]
  },
  {
   "cell_type": "code",
   "execution_count": 40,
   "metadata": {},
   "outputs": [
    {
     "name": "stdout",
     "output_type": "stream",
     "text": [
      "              precision    recall  f1-score   support\n",
      "\n",
      "           0       0.89      0.97      0.93      3153\n",
      "           1       0.83      0.50      0.62       762\n",
      "\n",
      "    accuracy                           0.88      3915\n",
      "   macro avg       0.86      0.74      0.78      3915\n",
      "weighted avg       0.88      0.88      0.87      3915\n",
      "\n"
     ]
    }
   ],
   "source": [
    "from sklearn import metrics\n",
    "print(metrics.classification_report(sample.is_toxic, sample.predictions))"
   ]
  },
  {
   "cell_type": "code",
   "execution_count": 42,
   "metadata": {},
   "outputs": [
    {
     "data": {
      "image/png": "[encoded data removed]",
      "text/plain": [
       "<Figure size 432x288 with 1 Axes>"
      ]
     },
     "metadata": {},
     "output_type": "display_data"
    }
   ],
   "source": [
    "#generate plots\n",
    "plt.figure()\n",
    "plt.plot(history_glove.history['loss'], lw=2.0, color='b', label='train')\n",
    "plt.plot(history_glove.history['val_loss'], lw=2.0, color='r', label='val')\n",
    "plt.title('LSTM sentiment')\n",
    "plt.xlabel('Epochs')\n",
    "plt.ylabel('Cross-Entropy Loss')\n",
    "plt.legend(loc='upper right')\n",
    "plt.show()"
   ]
  },
  {
   "cell_type": "code",
   "execution_count": null,
   "metadata": {},
   "outputs": [],
   "source": []
  }
 ],
 "metadata": {
  "kernelspec": {
   "display_name": "Python 3",
   "language": "python",
   "name": "python3"
  },
  "language_info": {
   "codemirror_mode": {
    "name": "ipython",
    "version": 3
   },
   "file_extension": ".py",
   "mimetype": "text/x-python",
   "name": "python",
   "nbconvert_exporter": "python",
   "pygments_lexer": "ipython3",
   "version": "3.6.8"
  }
 },
 "nbformat": 4,
 "nbformat_minor": 4
}
